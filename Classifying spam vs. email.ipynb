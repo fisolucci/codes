{
 "cells": [
  {
   "cell_type": "markdown",
   "metadata": {},
   "source": [
    "## Classifying spam vs. email"
   ]
  },
  {
   "cell_type": "code",
   "execution_count": 2,
   "metadata": {
    "collapsed": true
   },
   "outputs": [],
   "source": [
    "from IPython.core.pylabtools import figsize\n",
    "import matplotlib.pyplot as plt\n",
    "import numpy as np\n",
    "from sklearn.linear_model import LogisticRegression\n",
    "from sklearn.metrics import accuracy_score, classification_report\n",
    "from sklearn.metrics import roc_curve, auc, confusion_matrix\n",
    "from sklearn.metrics import precision_recall_curve, average_precision_score\n",
    "from sklearn.model_selection import train_test_split\n",
    "from sklearn.datasets import make_classification\n",
    "import statsmodels.api as sm\n",
    "from sklearn import metrics, linear_model\n",
    "import pandas as pd\n",
    "from sklearn.utils import shuffle\n",
    "from scipy import stats\n",
    "from sklearn.feature_selection import chi2\n",
    "\n",
    "\n",
    "\n",
    "%matplotlib inline\n",
    "plt.style.use('bmh')"
   ]
  },
  {
   "cell_type": "code",
   "execution_count": 3,
   "metadata": {
    "collapsed": true
   },
   "outputs": [],
   "source": [
    "spam = pd.read_csv('C:/Users/fisol/Desktop/Class Docs/DATA 803/Python II - Johnson/Class 2/HW2/spambase/spambase.names.csv') #delimiter=' ')"
   ]
  },
  {
   "cell_type": "code",
   "execution_count": 4,
   "metadata": {},
   "outputs": [
    {
     "data": {
      "text/plain": [
       "(4601, 58)"
      ]
     },
     "execution_count": 4,
     "metadata": {},
     "output_type": "execute_result"
    }
   ],
   "source": [
    "spam.shape#[:5]"
   ]
  },
  {
   "cell_type": "code",
   "execution_count": 5,
   "metadata": {
    "collapsed": true
   },
   "outputs": [],
   "source": [
    "spam = shuffle(spam, random_state=0)"
   ]
  },
  {
   "cell_type": "code",
   "execution_count": 6,
   "metadata": {},
   "outputs": [
    {
     "data": {
      "text/plain": [
       "Index(['word_freq_make:', 'word_freq_address:', 'word_freq_all:',\n",
       "       'word_freq_3d:', 'word_freq_our:', 'word_freq_over:',\n",
       "       'word_freq_remove:', 'word_freq_internet:', 'word_freq_order:',\n",
       "       'word_freq_mail:', 'word_freq_receive:', 'word_freq_will:',\n",
       "       'word_freq_people:', 'word_freq_report:', 'word_freq_addresses:',\n",
       "       'word_freq_free:', 'word_freq_business:', 'word_freq_email:',\n",
       "       'word_freq_you:', 'word_freq_credit:', 'word_freq_your:',\n",
       "       'word_freq_font:', 'word_freq_000:', 'word_freq_money:',\n",
       "       'word_freq_hp:', 'word_freq_hpl:', 'word_freq_george:',\n",
       "       'word_freq_650:', 'word_freq_lab:', 'word_freq_labs:',\n",
       "       'word_freq_telnet:', 'word_freq_857:', 'word_freq_data:',\n",
       "       'word_freq_415:', 'word_freq_85:', 'word_freq_technology:',\n",
       "       'word_freq_1999:', 'word_freq_parts:', 'word_freq_pm:',\n",
       "       'word_freq_direct:', 'word_freq_cs:', 'word_freq_meeting:',\n",
       "       'word_freq_original:', 'word_freq_project:', 'word_freq_re:',\n",
       "       'word_freq_edu:', 'word_freq_table:', 'word_freq_conference:',\n",
       "       'char_freq_;:', 'char_freq_(:', 'char_freq_[:', 'char_freq_!:',\n",
       "       'char_freq_$:', 'char_freq_#:', 'capital_run_length_average:',\n",
       "       'capital_run_length_longest:', 'capital_run_length_total:', 'Spam'],\n",
       "      dtype='object')"
      ]
     },
     "execution_count": 6,
     "metadata": {},
     "output_type": "execute_result"
    }
   ],
   "source": [
    "spam.columns"
   ]
  },
  {
   "cell_type": "code",
   "execution_count": 7,
   "metadata": {
    "collapsed": true
   },
   "outputs": [],
   "source": [
    "X = spam[['word_freq_make:', 'word_freq_address:', 'word_freq_all:',\n",
    "       'word_freq_3d:', 'word_freq_our:', 'word_freq_over:',\n",
    "       'word_freq_remove:', 'word_freq_internet:', 'word_freq_order:',\n",
    "       'word_freq_mail:', 'word_freq_receive:', 'word_freq_will:',\n",
    "       'word_freq_people:', 'word_freq_report:', 'word_freq_addresses:',\n",
    "       'word_freq_free:', 'word_freq_business:', 'word_freq_email:',\n",
    "       'word_freq_you:', 'word_freq_credit:', 'word_freq_your:',\n",
    "       'word_freq_font:', 'word_freq_000:', 'word_freq_money:',\n",
    "       'word_freq_hp:', 'word_freq_hpl:', 'word_freq_george:',\n",
    "       'word_freq_650:', 'word_freq_lab:', 'word_freq_labs:',\n",
    "       'word_freq_telnet:', 'word_freq_857:', 'word_freq_data:',\n",
    "       'word_freq_415:', 'word_freq_85:', 'word_freq_technology:',\n",
    "       'word_freq_1999:', 'word_freq_parts:', 'word_freq_pm:',\n",
    "       'word_freq_direct:', 'word_freq_cs:', 'word_freq_meeting:',\n",
    "       'word_freq_original:', 'word_freq_project:', 'word_freq_re:',\n",
    "       'word_freq_edu:', 'word_freq_table:', 'word_freq_conference:',\n",
    "       'char_freq_;:', 'char_freq_(:', 'char_freq_[:', 'char_freq_!:',\n",
    "       'char_freq_$:', 'char_freq_#:', 'capital_run_length_average:',\n",
    "       'capital_run_length_longest:', 'capital_run_length_total:']]\n",
    "y = spam['Spam']"
   ]
  },
  {
   "cell_type": "code",
   "execution_count": null,
   "metadata": {
    "collapsed": true
   },
   "outputs": [],
   "source": []
  },
  {
   "cell_type": "markdown",
   "metadata": {},
   "source": [
    "<h1><span style=\"text-decoration: underline;\">MODEL 1</span></h1>"
   ]
  },
  {
   "cell_type": "code",
   "execution_count": 8,
   "metadata": {
    "collapsed": true
   },
   "outputs": [],
   "source": [
    "X1tr, X1te, ytr1, yte1 = train_test_split(X, y, test_size=0.2, random_state=0)"
   ]
  },
  {
   "cell_type": "code",
   "execution_count": 9,
   "metadata": {},
   "outputs": [
    {
     "name": "stdout",
     "output_type": "stream",
     "text": [
      "0.3953804347826087\n",
      "0.395\n"
     ]
    }
   ],
   "source": [
    "print(np.sum(ytr1) / len(ytr1))\n",
    "null_preds = np.ones(len(ytr1))\n",
    "\n",
    "print('{:.3f}'.format(accuracy_score(ytr1, null_preds)))"
   ]
  },
  {
   "cell_type": "code",
   "execution_count": 10,
   "metadata": {
    "collapsed": true
   },
   "outputs": [],
   "source": [
    "Model1 = LogisticRegression().fit(X1tr, ytr1)"
   ]
  },
  {
   "cell_type": "code",
   "execution_count": 11,
   "metadata": {},
   "outputs": [
    {
     "data": {
      "text/plain": [
       "array([[ -2.30838285e-01,  -1.36121076e-01,   7.47128391e-02,\n",
       "          7.81144134e-01,   6.23004094e-01,   1.01743166e+00,\n",
       "          2.00503448e+00,   5.95583454e-01,   6.53732047e-01,\n",
       "          1.11847126e-01,  -2.55244154e-01,  -1.32322981e-01,\n",
       "         -1.13847509e-01,   1.28925077e-01,   9.44617986e-01,\n",
       "          9.76701535e-01,   8.42959877e-01,   1.29037930e-01,\n",
       "          9.54222798e-02,   8.37546554e-01,   2.42288866e-01,\n",
       "          3.06457133e-01,   1.81222346e+00,   9.83711560e-01,\n",
       "         -1.84867680e+00,  -9.64306653e-01,  -3.99651943e+00,\n",
       "          3.66546943e-01,  -1.23798568e+00,  -2.00509854e-01,\n",
       "         -2.78228898e-01,  -9.08852366e-03,  -9.97542668e-01,\n",
       "          2.17008221e-02,  -1.10317616e+00,   8.66183993e-01,\n",
       "         -1.45686273e-01,  -5.08303038e-01,  -7.39860065e-01,\n",
       "         -7.13546170e-02,  -1.38959589e+00,  -1.81622831e+00,\n",
       "         -8.61837775e-01,  -1.15274073e+00,  -6.85101599e-01,\n",
       "         -1.22137950e+00,  -8.43860831e-01,  -1.75839089e+00,\n",
       "         -1.19304114e+00,  -6.84726786e-02,  -3.53032438e-01,\n",
       "          3.35657141e-01,   3.41163432e+00,   9.72873869e-01,\n",
       "         -1.17059571e-02,   6.73396439e-03,   8.62567718e-04]])"
      ]
     },
     "execution_count": 11,
     "metadata": {},
     "output_type": "execute_result"
    }
   ],
   "source": [
    "Model1.coef_"
   ]
  },
  {
   "cell_type": "code",
   "execution_count": 12,
   "metadata": {
    "collapsed": true
   },
   "outputs": [],
   "source": [
    "preds1 = Model1.predict(X1tr)\n",
    "prob_preds1 = Model1.predict_proba(X1tr)"
   ]
  },
  {
   "cell_type": "code",
   "execution_count": 13,
   "metadata": {},
   "outputs": [
    {
     "data": {
      "text/plain": [
       "0.93233695652173909"
      ]
     },
     "execution_count": 13,
     "metadata": {},
     "output_type": "execute_result"
    }
   ],
   "source": [
    "Model1.score(X1tr, ytr1, sample_weight=None)"
   ]
  },
  {
   "cell_type": "code",
   "execution_count": 14,
   "metadata": {},
   "outputs": [
    {
     "data": {
      "text/html": [
       "<div>\n",
       "<table border=\"1\" class=\"dataframe\">\n",
       "  <thead>\n",
       "    <tr style=\"text-align: right;\">\n",
       "      <th></th>\n",
       "      <th>0</th>\n",
       "      <th>1</th>\n",
       "    </tr>\n",
       "  </thead>\n",
       "  <tbody>\n",
       "    <tr>\n",
       "      <th>0</th>\n",
       "      <td>2123</td>\n",
       "      <td>102</td>\n",
       "    </tr>\n",
       "    <tr>\n",
       "      <th>1</th>\n",
       "      <td>147</td>\n",
       "      <td>1308</td>\n",
       "    </tr>\n",
       "  </tbody>\n",
       "</table>\n",
       "</div>"
      ],
      "text/plain": [
       "      0     1\n",
       "0  2123   102\n",
       "1   147  1308"
      ]
     },
     "execution_count": 14,
     "metadata": {},
     "output_type": "execute_result"
    }
   ],
   "source": [
    "pd.DataFrame(confusion_matrix(ytr1, preds1))#.apply(lambda x: (x / sum(x))*100, axis=1)"
   ]
  },
  {
   "cell_type": "code",
   "execution_count": 15,
   "metadata": {
    "collapsed": true
   },
   "outputs": [],
   "source": [
    "dsp=pd.DataFrame(confusion_matrix(ytr1, preds1)).apply(lambda x: x / sum(x), axis=1)\n",
    "# dsp.plot(kind='bar', stacked=True)"
   ]
  },
  {
   "cell_type": "code",
   "execution_count": 16,
   "metadata": {},
   "outputs": [
    {
     "name": "stdout",
     "output_type": "stream",
     "text": [
      "             precision    recall  f1-score   support\n",
      "\n",
      "          0       0.94      0.95      0.94      2225\n",
      "          1       0.93      0.90      0.91      1455\n",
      "\n",
      "avg / total       0.93      0.93      0.93      3680\n",
      "\n"
     ]
    }
   ],
   "source": [
    "print(metrics.classification_report(ytr1, preds1)) #Model 1"
   ]
  },
  {
   "cell_type": "code",
   "execution_count": 17,
   "metadata": {
    "collapsed": true
   },
   "outputs": [],
   "source": [
    "def plot_roc(actual, predicted):\n",
    "    fpr, tpr, thr = roc_curve(actual, predicted)\n",
    "    roc_auc = auc(fpr, tpr)\n",
    "    figsize(12, 8)\n",
    "    plt.plot(fpr, tpr, label='ROC curve (area = %0.2f)' % roc_auc)\n",
    "    plt.plot([0, 1], [0, 1], 'k--')\n",
    "    plt.xlim([0.0, 1.0])\n",
    "    plt.ylim([0.0, 1.05])\n",
    "    plt.xlabel('False Positive Rate')\n",
    "    plt.ylabel('True Positive Rate')\n",
    "    plt.title('ROC (Class 1)')\n",
    "    plt.legend(loc=\"lower right\");\n",
    "    return"
   ]
  },
  {
   "cell_type": "markdown",
   "metadata": {},
   "source": [
    "<h1><span style=\"text-decoration: underline;\">MODEL 2</span></h1>"
   ]
  },
  {
   "cell_type": "code",
   "execution_count": 229,
   "metadata": {
    "collapsed": true
   },
   "outputs": [],
   "source": [
    "X2 = spam[['word_freq_make:', 'word_freq_address:', 'word_freq_all:',\n",
    "       'word_freq_3d:', 'word_freq_our:', 'word_freq_over:',\n",
    "       'word_freq_remove:', 'word_freq_internet:', 'word_freq_order:',\n",
    "       'word_freq_receive:', 'word_freq_will:',\n",
    "       'word_freq_people:', 'word_freq_addresses:',\n",
    "       'word_freq_free:', 'word_freq_business:', \n",
    "       'word_freq_edu:', 'word_freq_table:', 'word_freq_conference:',\n",
    "       'char_freq_;:', 'char_freq_(:', 'char_freq_[:', 'char_freq_!:',\n",
    "       'char_freq_$:', 'char_freq_#:', 'capital_run_length_average:',\n",
    "       'capital_run_length_longest:', 'capital_run_length_total:']]"
   ]
  },
  {
   "cell_type": "code",
   "execution_count": 230,
   "metadata": {
    "collapsed": true
   },
   "outputs": [],
   "source": [
    "X2tr, X2te, ytr2, yte2 = train_test_split(X2, y, test_size=0.2, random_state=0)"
   ]
  },
  {
   "cell_type": "code",
   "execution_count": 231,
   "metadata": {
    "collapsed": true
   },
   "outputs": [],
   "source": [
    "Model2 = LogisticRegression().fit(X2tr, ytr2)"
   ]
  },
  {
   "cell_type": "code",
   "execution_count": 232,
   "metadata": {},
   "outputs": [
    {
     "data": {
      "text/plain": [
       "0.88342391304347823"
      ]
     },
     "execution_count": 232,
     "metadata": {},
     "output_type": "execute_result"
    }
   ],
   "source": [
    "Model2.score(X2tr, ytr2, sample_weight=None)"
   ]
  },
  {
   "cell_type": "code",
   "execution_count": 233,
   "metadata": {
    "collapsed": true
   },
   "outputs": [],
   "source": [
    "preds2 = Model2.predict(X2tr)\n",
    "prob_preds2 = Model2.predict_proba(X2tr)"
   ]
  },
  {
   "cell_type": "code",
   "execution_count": 234,
   "metadata": {},
   "outputs": [
    {
     "data": {
      "text/plain": [
       "0.88342391304347823"
      ]
     },
     "execution_count": 234,
     "metadata": {},
     "output_type": "execute_result"
    }
   ],
   "source": [
    "accuracy_score(ytr2, preds2)"
   ]
  },
  {
   "cell_type": "code",
   "execution_count": 235,
   "metadata": {},
   "outputs": [
    {
     "data": {
      "text/html": [
       "<div>\n",
       "<table border=\"1\" class=\"dataframe\">\n",
       "  <thead>\n",
       "    <tr style=\"text-align: right;\">\n",
       "      <th></th>\n",
       "      <th>0</th>\n",
       "      <th>1</th>\n",
       "    </tr>\n",
       "  </thead>\n",
       "  <tbody>\n",
       "    <tr>\n",
       "      <th>0</th>\n",
       "      <td>2110</td>\n",
       "      <td>115</td>\n",
       "    </tr>\n",
       "    <tr>\n",
       "      <th>1</th>\n",
       "      <td>314</td>\n",
       "      <td>1141</td>\n",
       "    </tr>\n",
       "  </tbody>\n",
       "</table>\n",
       "</div>"
      ],
      "text/plain": [
       "      0     1\n",
       "0  2110   115\n",
       "1   314  1141"
      ]
     },
     "execution_count": 235,
     "metadata": {},
     "output_type": "execute_result"
    }
   ],
   "source": [
    "pd.DataFrame(confusion_matrix(ytr2, preds2))"
   ]
  },
  {
   "cell_type": "code",
   "execution_count": 236,
   "metadata": {
    "collapsed": true
   },
   "outputs": [],
   "source": [
    "# dsp=pd.DataFrame(confusion_matrix(ytr2, preds2)).apply(lambda x1: x1 / sum(x1), axis=1)\n",
    "# dsp.plot(kind='bar', stacked=True)"
   ]
  },
  {
   "cell_type": "code",
   "execution_count": 237,
   "metadata": {},
   "outputs": [
    {
     "name": "stdout",
     "output_type": "stream",
     "text": [
      "             precision    recall  f1-score   support\n",
      "\n",
      "          0       0.87      0.95      0.91      2225\n",
      "          1       0.91      0.78      0.84      1455\n",
      "\n",
      "avg / total       0.89      0.88      0.88      3680\n",
      "\n"
     ]
    }
   ],
   "source": [
    "print(metrics.classification_report(ytr2, preds2)) #Model 2"
   ]
  },
  {
   "cell_type": "markdown",
   "metadata": {},
   "source": [
    "<h1><span style=\"text-decoration: underline;\">MODEL 3</span></h1>"
   ]
  },
  {
   "cell_type": "code",
   "execution_count": 238,
   "metadata": {
    "collapsed": true
   },
   "outputs": [],
   "source": [
    "X3 = spam[['word_freq_make:', 'word_freq_address:', 'word_freq_all:','word_freq_3d:', 'word_freq_our:', 'word_freq_over:',\n",
    "       'word_freq_remove:', 'word_freq_internet:', 'word_freq_order:', 'word_freq_mail:', 'word_freq_will:',\n",
    "       'word_freq_people:', 'word_freq_addresses:', 'word_freq_free:', 'word_freq_business:', 'word_freq_you:', 'word_freq_credit:', 'word_freq_your:',\n",
    "       'word_freq_font:', 'word_freq_000:', 'word_freq_money:', 'word_freq_hp:', 'word_freq_hpl:', 'word_freq_george:',\n",
    "       'word_freq_650:', 'word_freq_lab:', 'word_freq_labs:', 'word_freq_telnet:', 'word_freq_857:', 'word_freq_data:','word_freq_85:', 'word_freq_technology:',\n",
    "       'word_freq_1999:', 'word_freq_parts:', 'word_freq_pm:', 'word_freq_direct:', 'word_freq_cs:', 'word_freq_meeting:',\n",
    "       'word_freq_original:', 'word_freq_project:', 'word_freq_re:', 'word_freq_edu:', 'word_freq_table:', 'word_freq_conference:',\n",
    "       'char_freq_;:', 'char_freq_(:', 'char_freq_[:', 'char_freq_!:', 'char_freq_$:', 'char_freq_#:', 'capital_run_length_average:',\n",
    "       'capital_run_length_longest:', 'capital_run_length_total:']]"
   ]
  },
  {
   "cell_type": "code",
   "execution_count": 239,
   "metadata": {
    "collapsed": true
   },
   "outputs": [],
   "source": [
    "X3tr, X3te, ytr3, yte3 = train_test_split(X3, y, test_size=0.2, random_state=0)"
   ]
  },
  {
   "cell_type": "code",
   "execution_count": 240,
   "metadata": {
    "collapsed": true
   },
   "outputs": [],
   "source": [
    "Model3 = LogisticRegression().fit(X3tr, ytr3)"
   ]
  },
  {
   "cell_type": "code",
   "execution_count": 241,
   "metadata": {},
   "outputs": [
    {
     "data": {
      "text/plain": [
       "0.93288043478260874"
      ]
     },
     "execution_count": 241,
     "metadata": {},
     "output_type": "execute_result"
    }
   ],
   "source": [
    "Model3.score(X3tr, ytr3, sample_weight=None)"
   ]
  },
  {
   "cell_type": "code",
   "execution_count": 242,
   "metadata": {
    "collapsed": true
   },
   "outputs": [],
   "source": [
    "preds3 = Model3.predict(X3tr)\n",
    "prob_preds3 = Model3.predict_proba(X3tr)"
   ]
  },
  {
   "cell_type": "code",
   "execution_count": 243,
   "metadata": {},
   "outputs": [
    {
     "data": {
      "text/plain": [
       "0.93288043478260874"
      ]
     },
     "execution_count": 243,
     "metadata": {},
     "output_type": "execute_result"
    }
   ],
   "source": [
    "accuracy_score(ytr3, preds3)"
   ]
  },
  {
   "cell_type": "code",
   "execution_count": 244,
   "metadata": {},
   "outputs": [
    {
     "data": {
      "text/html": [
       "<div>\n",
       "<table border=\"1\" class=\"dataframe\">\n",
       "  <thead>\n",
       "    <tr style=\"text-align: right;\">\n",
       "      <th></th>\n",
       "      <th>0</th>\n",
       "      <th>1</th>\n",
       "    </tr>\n",
       "  </thead>\n",
       "  <tbody>\n",
       "    <tr>\n",
       "      <th>0</th>\n",
       "      <td>2125</td>\n",
       "      <td>100</td>\n",
       "    </tr>\n",
       "    <tr>\n",
       "      <th>1</th>\n",
       "      <td>147</td>\n",
       "      <td>1308</td>\n",
       "    </tr>\n",
       "  </tbody>\n",
       "</table>\n",
       "</div>"
      ],
      "text/plain": [
       "      0     1\n",
       "0  2125   100\n",
       "1   147  1308"
      ]
     },
     "execution_count": 244,
     "metadata": {},
     "output_type": "execute_result"
    }
   ],
   "source": [
    "pd.DataFrame(confusion_matrix(ytr3, preds3))"
   ]
  },
  {
   "cell_type": "code",
   "execution_count": 245,
   "metadata": {},
   "outputs": [
    {
     "name": "stdout",
     "output_type": "stream",
     "text": [
      "             precision    recall  f1-score   support\n",
      "\n",
      "          0       0.94      0.96      0.95      2225\n",
      "          1       0.93      0.90      0.91      1455\n",
      "\n",
      "avg / total       0.93      0.93      0.93      3680\n",
      "\n"
     ]
    }
   ],
   "source": [
    "print(metrics.classification_report(ytr3, preds3))  #Model 3"
   ]
  },
  {
   "cell_type": "code",
   "execution_count": 246,
   "metadata": {},
   "outputs": [
    {
     "data": {
      "text/plain": [
       "0.93288043478260874"
      ]
     },
     "execution_count": 246,
     "metadata": {},
     "output_type": "execute_result"
    }
   ],
   "source": [
    "Model3.score(X3tr, ytr3, sample_weight=None)  #Model 3 Score"
   ]
  },
  {
   "cell_type": "markdown",
   "metadata": {},
   "source": [
    "<h1><span style=\"text-decoration: underline;\">Model 4</span></h1>"
   ]
  },
  {
   "cell_type": "code",
   "execution_count": 247,
   "metadata": {
    "collapsed": true
   },
   "outputs": [],
   "source": [
    "X4 = spam[['word_freq_make:', 'word_freq_address:', 'word_freq_3d:', 'word_freq_our:', 'word_freq_over:',\n",
    "       'word_freq_remove:', 'word_freq_internet:', 'word_freq_order:','word_freq_will:',\n",
    "       'word_freq_people:', 'word_freq_addresses:',\n",
    "       'word_freq_free:', 'word_freq_business:', 'word_freq_you:', 'word_freq_credit:', 'word_freq_your:',\n",
    "       'word_freq_000:', 'word_freq_money:',\n",
    "       'word_freq_hp:', 'word_freq_hpl:', 'word_freq_george:',\n",
    "       'word_freq_650:', 'word_freq_lab:', 'word_freq_labs:','word_freq_data:','word_freq_85:', 'word_freq_technology:','word_freq_parts:', 'word_freq_pm:',\n",
    "       'word_freq_direct:', 'word_freq_cs:', 'word_freq_meeting:',\n",
    "       'word_freq_original:', 'word_freq_project:', 'word_freq_re:',\n",
    "       'word_freq_edu:', 'word_freq_table:', 'word_freq_conference:',\n",
    "       'char_freq_;:', 'char_freq_(:', 'char_freq_[:', 'char_freq_!:',\n",
    "       'char_freq_$:', 'char_freq_#:', 'capital_run_length_average:',\n",
    "       'capital_run_length_longest:', 'capital_run_length_total:']]"
   ]
  },
  {
   "cell_type": "code",
   "execution_count": 248,
   "metadata": {
    "collapsed": true
   },
   "outputs": [],
   "source": [
    "X4tr, X4te, ytr4, yte4 = train_test_split(X4, y, test_size=0.2, random_state=0)"
   ]
  },
  {
   "cell_type": "code",
   "execution_count": 249,
   "metadata": {
    "collapsed": true
   },
   "outputs": [],
   "source": [
    "Model4 = LogisticRegression().fit(X4tr, ytr4)"
   ]
  },
  {
   "cell_type": "code",
   "execution_count": 250,
   "metadata": {},
   "outputs": [
    {
     "data": {
      "text/plain": [
       "0.93369565217391304"
      ]
     },
     "execution_count": 250,
     "metadata": {},
     "output_type": "execute_result"
    }
   ],
   "source": [
    "Model4.score(X4tr, ytr4, sample_weight=None)  #Model 4 Score"
   ]
  },
  {
   "cell_type": "code",
   "execution_count": 251,
   "metadata": {
    "collapsed": true
   },
   "outputs": [],
   "source": [
    "preds4 = Model4.predict(X4tr)\n",
    "prob_preds4 = Model4.predict_proba(X4tr)"
   ]
  },
  {
   "cell_type": "code",
   "execution_count": 252,
   "metadata": {},
   "outputs": [
    {
     "data": {
      "text/html": [
       "<div>\n",
       "<table border=\"1\" class=\"dataframe\">\n",
       "  <thead>\n",
       "    <tr style=\"text-align: right;\">\n",
       "      <th></th>\n",
       "      <th>0</th>\n",
       "      <th>1</th>\n",
       "    </tr>\n",
       "  </thead>\n",
       "  <tbody>\n",
       "    <tr>\n",
       "      <th>0</th>\n",
       "      <td>2132</td>\n",
       "      <td>93</td>\n",
       "    </tr>\n",
       "    <tr>\n",
       "      <th>1</th>\n",
       "      <td>151</td>\n",
       "      <td>1304</td>\n",
       "    </tr>\n",
       "  </tbody>\n",
       "</table>\n",
       "</div>"
      ],
      "text/plain": [
       "      0     1\n",
       "0  2132    93\n",
       "1   151  1304"
      ]
     },
     "execution_count": 252,
     "metadata": {},
     "output_type": "execute_result"
    }
   ],
   "source": [
    "pd.DataFrame(confusion_matrix(ytr4, preds4))"
   ]
  },
  {
   "cell_type": "code",
   "execution_count": 253,
   "metadata": {},
   "outputs": [
    {
     "name": "stdout",
     "output_type": "stream",
     "text": [
      "             precision    recall  f1-score   support\n",
      "\n",
      "          0       0.93      0.96      0.95      2225\n",
      "          1       0.93      0.90      0.91      1455\n",
      "\n",
      "avg / total       0.93      0.93      0.93      3680\n",
      "\n"
     ]
    }
   ],
   "source": [
    "print(metrics.classification_report(ytr4, preds4))  #Model 4"
   ]
  },
  {
   "cell_type": "markdown",
   "metadata": {},
   "source": [
    "<h1><span style=\"text-decoration: underline;\">Model 5</span></h1>"
   ]
  },
  {
   "cell_type": "code",
   "execution_count": 254,
   "metadata": {
    "collapsed": true
   },
   "outputs": [],
   "source": [
    "# model_logit = sm.Logit(y, X).fit()\n",
    "# model_logit.summary()"
   ]
  },
  {
   "cell_type": "code",
   "execution_count": 255,
   "metadata": {
    "collapsed": true
   },
   "outputs": [],
   "source": [
    "X5 = spam[['word_freq_make:', 'word_freq_address:', 'word_freq_our:', 'word_freq_over:',\n",
    "       'word_freq_remove:', 'word_freq_internet:', 'word_freq_will:','word_freq_free:', 'word_freq_business:',\n",
    "       'word_freq_you:', 'word_freq_data:',\n",
    "       'word_freq_85:', 'word_freq_pm:','word_freq_meeting:',\n",
    "       'word_freq_project:', 'word_freq_re:','word_freq_your:',\n",
    "       'word_freq_000:', 'word_freq_money:','word_freq_george:',\n",
    "        'word_freq_650:', 'word_freq_lab:','word_freq_credit:',\n",
    "       'word_freq_edu:', 'word_freq_hpl:',\n",
    "         'word_freq_conference:','word_freq_hp:',\n",
    "       'char_freq_;:', 'char_freq_(:','char_freq_!:',\n",
    "       'char_freq_$:','capital_run_length_longest:', 'capital_run_length_total:']]"
   ]
  },
  {
   "cell_type": "code",
   "execution_count": 256,
   "metadata": {
    "collapsed": true
   },
   "outputs": [],
   "source": [
    "X5tr, X5te, ytr5, yte5 = train_test_split(X5, y, test_size=0.2, random_state=0)"
   ]
  },
  {
   "cell_type": "code",
   "execution_count": 257,
   "metadata": {
    "collapsed": true
   },
   "outputs": [],
   "source": [
    "Model5 = LogisticRegression().fit(X5tr, ytr5)"
   ]
  },
  {
   "cell_type": "code",
   "execution_count": 258,
   "metadata": {},
   "outputs": [
    {
     "data": {
      "text/plain": [
       "0.92581521739130435"
      ]
     },
     "execution_count": 258,
     "metadata": {},
     "output_type": "execute_result"
    }
   ],
   "source": [
    "Model5.score(X5tr, ytr5, sample_weight=None)  #Model 5 Score"
   ]
  },
  {
   "cell_type": "code",
   "execution_count": 259,
   "metadata": {
    "collapsed": true
   },
   "outputs": [],
   "source": [
    "preds5 = Model5.predict(X5tr)\n",
    "prob_preds5 = Model5.predict_proba(X5tr)"
   ]
  },
  {
   "cell_type": "code",
   "execution_count": 260,
   "metadata": {},
   "outputs": [
    {
     "data": {
      "text/html": [
       "<div>\n",
       "<table border=\"1\" class=\"dataframe\">\n",
       "  <thead>\n",
       "    <tr style=\"text-align: right;\">\n",
       "      <th></th>\n",
       "      <th>0</th>\n",
       "      <th>1</th>\n",
       "    </tr>\n",
       "  </thead>\n",
       "  <tbody>\n",
       "    <tr>\n",
       "      <th>0</th>\n",
       "      <td>2118</td>\n",
       "      <td>107</td>\n",
       "    </tr>\n",
       "    <tr>\n",
       "      <th>1</th>\n",
       "      <td>166</td>\n",
       "      <td>1289</td>\n",
       "    </tr>\n",
       "  </tbody>\n",
       "</table>\n",
       "</div>"
      ],
      "text/plain": [
       "      0     1\n",
       "0  2118   107\n",
       "1   166  1289"
      ]
     },
     "execution_count": 260,
     "metadata": {},
     "output_type": "execute_result"
    }
   ],
   "source": [
    "pd.DataFrame(confusion_matrix(ytr5, preds5))#.apply(lambda x: (x / sum(x))*100, axis=1)"
   ]
  },
  {
   "cell_type": "code",
   "execution_count": 261,
   "metadata": {},
   "outputs": [
    {
     "name": "stdout",
     "output_type": "stream",
     "text": [
      "             precision    recall  f1-score   support\n",
      "\n",
      "          0       0.93      0.95      0.94      2225\n",
      "          1       0.92      0.89      0.90      1455\n",
      "\n",
      "avg / total       0.93      0.93      0.93      3680\n",
      "\n"
     ]
    }
   ],
   "source": [
    "print(metrics.classification_report(ytr5, preds5))  #Model 5"
   ]
  },
  {
   "cell_type": "markdown",
   "metadata": {},
   "source": [
    "<h1><span style=\"text-decoration: underline;\">Comparing Models</span></h1>"
   ]
  },
  {
   "cell_type": "markdown",
   "metadata": {},
   "source": [
    "**Classification Report:**"
   ]
  },
  {
   "cell_type": "code",
   "execution_count": 262,
   "metadata": {},
   "outputs": [
    {
     "name": "stdout",
     "output_type": "stream",
     "text": [
      "MODEL 1: \n",
      "              precision    recall  f1-score   support\n",
      "\n",
      "          0       0.94      0.95      0.94      2225\n",
      "          1       0.93      0.90      0.91      1455\n",
      "\n",
      "avg / total       0.93      0.93      0.93      3680\n",
      "\n",
      "MODEL 2: \n",
      "              precision    recall  f1-score   support\n",
      "\n",
      "          0       0.87      0.95      0.91      2225\n",
      "          1       0.91      0.78      0.84      1455\n",
      "\n",
      "avg / total       0.89      0.88      0.88      3680\n",
      "\n",
      "MODEL 3: \n",
      "              precision    recall  f1-score   support\n",
      "\n",
      "          0       0.94      0.96      0.95      2225\n",
      "          1       0.93      0.90      0.91      1455\n",
      "\n",
      "avg / total       0.93      0.93      0.93      3680\n",
      "\n",
      "MODEL 4: \n",
      "              precision    recall  f1-score   support\n",
      "\n",
      "          0       0.93      0.96      0.95      2225\n",
      "          1       0.93      0.90      0.91      1455\n",
      "\n",
      "avg / total       0.93      0.93      0.93      3680\n",
      "\n",
      "MODEL 5: \n",
      "              precision    recall  f1-score   support\n",
      "\n",
      "          0       0.93      0.95      0.94      2225\n",
      "          1       0.92      0.89      0.90      1455\n",
      "\n",
      "avg / total       0.93      0.93      0.93      3680\n",
      "\n"
     ]
    }
   ],
   "source": [
    "print(\"MODEL 1: \"'\\n',metrics.classification_report(ytr1, preds1))  #Model 1\n",
    "print(\"MODEL 2: \"'\\n',metrics.classification_report(ytr2, preds2))  #Model 2\n",
    "print(\"MODEL 3: \"'\\n',metrics.classification_report(ytr3, preds3))  #Model 3\n",
    "print(\"MODEL 4: \"'\\n',metrics.classification_report(ytr4, preds4))  #Model 4\n",
    "print(\"MODEL 5: \"'\\n',metrics.classification_report(ytr5, preds5))  #Model 5"
   ]
  },
  {
   "cell_type": "markdown",
   "metadata": {},
   "source": [
    "**Accuracy Scores & Column Sizes:**"
   ]
  },
  {
   "cell_type": "code",
   "execution_count": 263,
   "metadata": {},
   "outputs": [
    {
     "name": "stdout",
     "output_type": "stream",
     "text": [
      "MODEL 1: \n",
      " Accuracy Score:  0.932336956522\n",
      "Shape of the Dataset:  (3680, 57)\n",
      "MODEL 2: \n",
      " Accuracy Score:  0.883423913043\n",
      "Shape of the Dataset:  (3680, 27)\n",
      "MODEL 3: \n",
      " Accuracy Score:  0.932880434783\n",
      "Shape of the Dataset:  (3680, 53)\n",
      "MODEL 4: \n",
      " Accuracy Score:  0.933695652174\n",
      "Shape of the Dataset:  (3680, 47)\n",
      "MODEL 5: \n",
      " Accuracy Score:  0.925815217391\n",
      "Shape of the Dataset:  (3680, 33)\n"
     ]
    }
   ],
   "source": [
    "print(\"MODEL 1: \"'\\n',\"Accuracy Score: \",Model1.score(X1tr, ytr1, sample_weight=None))  #Model 1 Score\n",
    "print(\"Shape of the Dataset: \", X1tr.shape) #model1\n",
    "print(\"MODEL 2: \"'\\n',\"Accuracy Score: \", Model2.score(X2tr, ytr2, sample_weight=None))  #Model 2 Score\n",
    "print(\"Shape of the Dataset: \", X2tr.shape) #model2\n",
    "print(\"MODEL 3: \"'\\n',\"Accuracy Score: \", Model3.score(X3tr, ytr3, sample_weight=None)) #Model 3 Score\n",
    "print(\"Shape of the Dataset: \", X3tr.shape) #Model3\n",
    "print(\"MODEL 4: \"'\\n',\"Accuracy Score: \",Model4.score(X4tr, ytr4, sample_weight=None))  #Model 4 Score\n",
    "print(\"Shape of the Dataset: \", X4tr.shape) #Model4\n",
    "print(\"MODEL 5: \"'\\n',\"Accuracy Score: \", Model5.score(X5tr, ytr5, sample_weight=None))  #Model 5 Score\n",
    "print(\"Shape of the Dataset: \", X5tr.shape) #Model5"
   ]
  },
  {
   "cell_type": "markdown",
   "metadata": {},
   "source": [
    "**Model 3:**"
   ]
  },
  {
   "cell_type": "code",
   "execution_count": 264,
   "metadata": {},
   "outputs": [
    {
     "name": "stdout",
     "output_type": "stream",
     "text": [
      "\n",
      " MODEL 1: \n",
      "       0     1\n",
      "0  2123   102\n",
      "1   147  1308\n",
      "\n",
      " MODEL 2: \n",
      "       0     1\n",
      "0  2110   115\n",
      "1   314  1141\n",
      "\n",
      " MODEL 3: \n",
      "       0     1\n",
      "0  2125   100\n",
      "1   147  1308\n",
      "\n",
      " MODEL 4: \n",
      "       0     1\n",
      "0  2132    93\n",
      "1   151  1304\n",
      "\n",
      " MODEL 5: \n",
      "       0     1\n",
      "0  2118   107\n",
      "1   166  1289\n"
     ]
    }
   ],
   "source": [
    "print('\\n',\"MODEL 1: \"'\\n',pd.DataFrame(confusion_matrix(ytr1, preds1)))   #model1\n",
    "print('\\n',\"MODEL 2: \"'\\n',pd.DataFrame(confusion_matrix(ytr2, preds2)))   #model2\n",
    "print('\\n',\"MODEL 3: \"'\\n',pd.DataFrame(confusion_matrix(ytr3, preds3)))   #model3\n",
    "print('\\n',\"MODEL 4: \"'\\n',pd.DataFrame(confusion_matrix(ytr4, preds4)))   #model4\n",
    "print('\\n',\"MODEL 5: \"'\\n',pd.DataFrame(confusion_matrix(ytr5, preds5)))   #model 5"
   ]
  },
  {
   "cell_type": "markdown",
   "metadata": {},
   "source": [
    "<b>Comparing the models above based on their accuracy, precision and recall values. Model 3 came out on top with the least amount of false positives which is a top priority for the purpose of detecting spam.</b>"
   ]
  },
  {
   "cell_type": "markdown",
   "metadata": {},
   "source": [
    "<h1><span style=\"text-decoration: underline;\">Running Model 4 on the Test Data</span></h1>"
   ]
  },
  {
   "cell_type": "code",
   "execution_count": 265,
   "metadata": {
    "collapsed": true
   },
   "outputs": [],
   "source": [
    "preds4_test = Model4.predict(X4te)\n",
    "prob_preds4_test = Model4.predict_proba(X4te)"
   ]
  },
  {
   "cell_type": "code",
   "execution_count": 266,
   "metadata": {},
   "outputs": [
    {
     "data": {
      "text/html": [
       "<div>\n",
       "<table border=\"1\" class=\"dataframe\">\n",
       "  <thead>\n",
       "    <tr style=\"text-align: right;\">\n",
       "      <th></th>\n",
       "      <th>0</th>\n",
       "      <th>1</th>\n",
       "    </tr>\n",
       "  </thead>\n",
       "  <tbody>\n",
       "    <tr>\n",
       "      <th>0</th>\n",
       "      <td>539</td>\n",
       "      <td>24</td>\n",
       "    </tr>\n",
       "    <tr>\n",
       "      <th>1</th>\n",
       "      <td>45</td>\n",
       "      <td>313</td>\n",
       "    </tr>\n",
       "  </tbody>\n",
       "</table>\n",
       "</div>"
      ],
      "text/plain": [
       "     0    1\n",
       "0  539   24\n",
       "1   45  313"
      ]
     },
     "execution_count": 266,
     "metadata": {},
     "output_type": "execute_result"
    }
   ],
   "source": [
    "pd.DataFrame(confusion_matrix(yte4, preds4_test))"
   ]
  },
  {
   "cell_type": "code",
   "execution_count": 267,
   "metadata": {
    "collapsed": true
   },
   "outputs": [],
   "source": [
    "disp = pd.DataFrame(confusion_matrix(yte4, preds4_test))"
   ]
  },
  {
   "cell_type": "code",
   "execution_count": 268,
   "metadata": {},
   "outputs": [
    {
     "data": {
      "text/plain": [
       "<matplotlib.axes._subplots.AxesSubplot at 0x201dbe3c198>"
      ]
     },
     "execution_count": 268,
     "metadata": {},
     "output_type": "execute_result"
    },
    {
     "data": {
      "image/png": "[encoded data removed]",
      "text/plain": [
       "<matplotlib.figure.Figure at 0x201dbe24358>"
      ]
     },
     "metadata": {},
     "output_type": "display_data"
    }
   ],
   "source": [
    "disp.plot(kind='bar')"
   ]
  },
  {
   "cell_type": "code",
   "execution_count": 269,
   "metadata": {},
   "outputs": [
    {
     "data": {
      "text/plain": [
       "0.92508143322475567"
      ]
     },
     "execution_count": 269,
     "metadata": {},
     "output_type": "execute_result"
    }
   ],
   "source": [
    "accuracy_score(yte4, preds4_test)"
   ]
  },
  {
   "cell_type": "code",
   "execution_count": 270,
   "metadata": {},
   "outputs": [
    {
     "data": {
      "image/png": "[encoded data removed]",
      "text/plain": [
       "<matplotlib.figure.Figure at 0x201da6bf630>"
      ]
     },
     "metadata": {},
     "output_type": "display_data"
    }
   ],
   "source": [
    "plot_roc(yte4, prob_preds4_test[:,1])"
   ]
  },
  {
   "cell_type": "code",
   "execution_count": 271,
   "metadata": {},
   "outputs": [
    {
     "data": {
      "image/png": "[encoded data removed]",
      "text/plain": [
       "<matplotlib.figure.Figure at 0x201da6949b0>"
      ]
     },
     "metadata": {},
     "output_type": "display_data"
    }
   ],
   "source": [
    "prec, rec, thresh = precision_recall_curve(yte4, prob_preds4_test[:,1])\n",
    "figsize(12, 6)\n",
    "plt.plot(rec, prec, label='AUC={0:0.2f}'.format(average_precision_score(yte4, prob_preds4_test[:,1])))\n",
    "plt.title('Precision-Recall')\n",
    "plt.xlabel('Recall')\n",
    "plt.ylabel('Precision')\n",
    "plt.legend(loc='best');"
   ]
  },
  {
   "cell_type": "code",
   "execution_count": 272,
   "metadata": {},
   "outputs": [
    {
     "name": "stdout",
     "output_type": "stream",
     "text": [
      "             precision    recall  f1-score   support\n",
      "\n",
      "          0       0.92      0.96      0.94       563\n",
      "          1       0.93      0.87      0.90       358\n",
      "\n",
      "avg / total       0.93      0.93      0.92       921\n",
      "\n"
     ]
    }
   ],
   "source": [
    "print(classification_report(yte4, preds4_test))"
   ]
  },
  {
   "cell_type": "markdown",
   "metadata": {},
   "source": [
    "<h1><span style=\"text-decoration: underline;\">Comparing The Train predictions to the Test predictions</span></h1>"
   ]
  },
  {
   "cell_type": "code",
   "execution_count": 273,
   "metadata": {},
   "outputs": [
    {
     "data": {
      "text/html": [
       "<div>\n",
       "<table border=\"1\" class=\"dataframe\">\n",
       "  <thead>\n",
       "    <tr style=\"text-align: right;\">\n",
       "      <th></th>\n",
       "      <th>0</th>\n",
       "      <th>1</th>\n",
       "    </tr>\n",
       "  </thead>\n",
       "  <tbody>\n",
       "    <tr>\n",
       "      <th>0</th>\n",
       "      <td>95.737123</td>\n",
       "      <td>4.262877</td>\n",
       "    </tr>\n",
       "    <tr>\n",
       "      <th>1</th>\n",
       "      <td>12.569832</td>\n",
       "      <td>87.430168</td>\n",
       "    </tr>\n",
       "  </tbody>\n",
       "</table>\n",
       "</div>"
      ],
      "text/plain": [
       "           0          1\n",
       "0  95.737123   4.262877\n",
       "1  12.569832  87.430168"
      ]
     },
     "execution_count": 273,
     "metadata": {},
     "output_type": "execute_result"
    }
   ],
   "source": [
    "pd.DataFrame(confusion_matrix(yte4, preds4_test)).apply(lambda x: (x / sum(x))*100, axis=1)  #Test"
   ]
  },
  {
   "cell_type": "code",
   "execution_count": 274,
   "metadata": {},
   "outputs": [
    {
     "data": {
      "text/html": [
       "<div>\n",
       "<table border=\"1\" class=\"dataframe\">\n",
       "  <thead>\n",
       "    <tr style=\"text-align: right;\">\n",
       "      <th></th>\n",
       "      <th>0</th>\n",
       "      <th>1</th>\n",
       "    </tr>\n",
       "  </thead>\n",
       "  <tbody>\n",
       "    <tr>\n",
       "      <th>0</th>\n",
       "      <td>95.820225</td>\n",
       "      <td>4.179775</td>\n",
       "    </tr>\n",
       "    <tr>\n",
       "      <th>1</th>\n",
       "      <td>10.378007</td>\n",
       "      <td>89.621993</td>\n",
       "    </tr>\n",
       "  </tbody>\n",
       "</table>\n",
       "</div>"
      ],
      "text/plain": [
       "           0          1\n",
       "0  95.820225   4.179775\n",
       "1  10.378007  89.621993"
      ]
     },
     "execution_count": 274,
     "metadata": {},
     "output_type": "execute_result"
    }
   ],
   "source": [
    "pd.DataFrame(confusion_matrix(ytr4, preds4)).apply(lambda x: (x / sum(x))*100, axis=1)   #Train"
   ]
  },
  {
   "cell_type": "code",
   "execution_count": 275,
   "metadata": {},
   "outputs": [
    {
     "data": {
      "text/plain": [
       "0.92508143322475567"
      ]
     },
     "execution_count": 275,
     "metadata": {},
     "output_type": "execute_result"
    }
   ],
   "source": [
    "accuracy_score(yte4, preds4_test)  #Test"
   ]
  },
  {
   "cell_type": "code",
   "execution_count": 276,
   "metadata": {},
   "outputs": [
    {
     "data": {
      "text/plain": [
       "0.93369565217391304"
      ]
     },
     "execution_count": 276,
     "metadata": {},
     "output_type": "execute_result"
    }
   ],
   "source": [
    "accuracy_score(ytr4, preds4)  #Train"
   ]
  },
  {
   "cell_type": "code",
   "execution_count": null,
   "metadata": {
    "collapsed": true
   },
   "outputs": [],
   "source": []
  }
 ],
 "metadata": {
  "kernelspec": {
   "display_name": "Python 3",
   "language": "python",
   "name": "python3"
  },
  "language_info": {
   "codemirror_mode": {
    "name": "ipython",
    "version": 3
   },
   "file_extension": ".py",
   "mimetype": "text/x-python",
   "name": "python",
   "nbconvert_exporter": "python",
   "pygments_lexer": "ipython3",
   "version": "3.6.0"
  }
 },
 "nbformat": 4,
 "nbformat_minor": 1
}
