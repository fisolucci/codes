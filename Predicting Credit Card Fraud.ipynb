{
 "cells": [
  {
   "cell_type": "markdown",
   "metadata": {},
   "source": [
    "# Predicting Credit Card Fraud"
   ]
  },
  {
   "cell_type": "code",
   "execution_count": 1,
   "metadata": {},
   "outputs": [
    {
     "name": "stderr",
     "output_type": "stream",
     "text": [
      "C:\\Users\\fisol\\Anaconda3\\lib\\site-packages\\sklearn\\cross_validation.py:44: DeprecationWarning: This module was deprecated in version 0.18 in favor of the model_selection module into which all the refactored classes and functions are moved. Also note that the interface of the new CV iterators are different from that of this module. This module will be removed in 0.20.\n",
      "  \"This module will be removed in 0.20.\", DeprecationWarning)\n",
      "C:\\Users\\fisol\\Anaconda3\\lib\\site-packages\\sklearn\\grid_search.py:43: DeprecationWarning: This module was deprecated in version 0.18 in favor of the model_selection module into which all the refactored classes and functions are moved. This module will be removed in 0.20.\n",
      "  DeprecationWarning)\n"
     ]
    }
   ],
   "source": [
    "from IPython.core.pylabtools import figsize\n",
    "import pandas as pd\n",
    "import numpy as np\n",
    "import matplotlib.pyplot as plt\n",
    "import seaborn as sns\n",
    "from sklearn.utils import shuffle\n",
    "\n",
    "from sklearn.datasets import make_classification\n",
    "from sklearn.model_selection import train_test_split, cross_val_score\n",
    "from sklearn.grid_search import GridSearchCV\n",
    "from sklearn.linear_model import LogisticRegression, LogisticRegressionCV, lasso_path, LassoCV, Ridge, Lasso\n",
    "from sklearn.metrics import accuracy_score, classification_report, confusion_matrix, roc_auc_score, mean_squared_error\n",
    "from sklearn.preprocessing import StandardScaler\n",
    "from sklearn.metrics import roc_curve, auc\n",
    "from statsmodels.api import OLS\n",
    "\n",
    "import warnings\n",
    "warnings.filterwarnings(\"ignore\")\n",
    "\n",
    "% matplotlib inline"
   ]
  },
  {
   "cell_type": "code",
   "execution_count": 2,
   "metadata": {
    "collapsed": true
   },
   "outputs": [],
   "source": [
    "cc = pd.read_csv('C:/Users/fisol/Desktop/Class Docs/DATA 803/Python II - Johnson/Class 3/HW/creditcard.csv') "
   ]
  },
  {
   "cell_type": "code",
   "execution_count": 3,
   "metadata": {
    "collapsed": true
   },
   "outputs": [],
   "source": [
    "# cc.head(10)"
   ]
  },
  {
   "cell_type": "code",
   "execution_count": 4,
   "metadata": {
    "collapsed": true
   },
   "outputs": [],
   "source": [
    "#shuffling the dataset\n",
    "cc = shuffle(cc, random_state=0)"
   ]
  },
  {
   "cell_type": "code",
   "execution_count": 5,
   "metadata": {},
   "outputs": [
    {
     "data": {
      "text/plain": [
       "0    284315\n",
       "1       492\n",
       "Name: Class, dtype: int64"
      ]
     },
     "execution_count": 5,
     "metadata": {},
     "output_type": "execute_result"
    }
   ],
   "source": [
    "#checking the amount of fraud cases in the dataset. \n",
    "cc.Class.value_counts()"
   ]
  },
  {
   "cell_type": "code",
   "execution_count": 6,
   "metadata": {
    "collapsed": true
   },
   "outputs": [],
   "source": [
    "#creating my predictors and response variables\n",
    "X = cc[['Time','V1','V2','V3','V4','V5','V6','V7', 'V8','V9','V10','V11','V12','V13','V14','V15','V16','V17','V18','V19','V20',\n",
    "        'V21','V22','V23','V24', 'V25','V26','V27','V28','Amount',]]\n",
    "y = cc['Class']"
   ]
  },
  {
   "cell_type": "code",
   "execution_count": 7,
   "metadata": {},
   "outputs": [
    {
     "name": "stdout",
     "output_type": "stream",
     "text": [
      "(284807, 30) (284807,)\n"
     ]
    }
   ],
   "source": [
    "#checking the shape of both X and y\n",
    "print (X.shape, y.shape)"
   ]
  },
  {
   "cell_type": "code",
   "execution_count": 8,
   "metadata": {
    "collapsed": true
   },
   "outputs": [],
   "source": [
    "#standardizing all the predictors.\n",
    "scaler = StandardScaler()\n",
    "X = scaler.fit_transform(X)"
   ]
  },
  {
   "cell_type": "code",
   "execution_count": 9,
   "metadata": {
    "collapsed": true
   },
   "outputs": [],
   "source": [
    "#splitting the data into train and test\n",
    "Xtr, Xte, ytr, yte = train_test_split(X, y, test_size=0.2, random_state=0)"
   ]
  },
  {
   "cell_type": "code",
   "execution_count": 10,
   "metadata": {},
   "outputs": [
    {
     "name": "stdout",
     "output_type": "stream",
     "text": [
      "(227845, 30) (56962, 30) (227845,) (56962,)\n"
     ]
    }
   ],
   "source": [
    "#checking the shape of the train and test split data\n",
    "print (Xtr.shape, Xte.shape, ytr.shape, yte.shape )"
   ]
  },
  {
   "cell_type": "code",
   "execution_count": 11,
   "metadata": {
    "collapsed": true
   },
   "outputs": [],
   "source": [
    "#logistic regression model using l2 penalty\n",
    "trainmodel01 = LogisticRegression(random_state=0).fit(Xtr,ytr)\n",
    "trainpred01 = trainmodel01.predict(Xte)"
   ]
  },
  {
   "cell_type": "code",
   "execution_count": 12,
   "metadata": {},
   "outputs": [
    {
     "name": "stdout",
     "output_type": "stream",
     "text": [
      "0.999227555212\n"
     ]
    }
   ],
   "source": [
    "#The Rsquared score of the model\n",
    "print(trainmodel01.score(Xte, yte))  "
   ]
  },
  {
   "cell_type": "code",
   "execution_count": 13,
   "metadata": {},
   "outputs": [
    {
     "name": "stdout",
     "output_type": "stream",
     "text": [
      "             precision    recall  f1-score   support\n",
      "\n",
      "          0       1.00      1.00      1.00     56869\n",
      "          1       0.90      0.59      0.71        93\n",
      "\n",
      "avg / total       1.00      1.00      1.00     56962\n",
      "\n",
      "Confusion Matrix:\n",
      "\n",
      " [[56863     6]\n",
      " [   38    55]]\n",
      "\n"
     ]
    }
   ],
   "source": [
    "print(classification_report(yte, trainpred01)) \n",
    "print('Confusion Matrix:\\n\\n %s\\n' % confusion_matrix(yte, trainpred01));"
   ]
  },
  {
   "cell_type": "markdown",
   "metadata": {},
   "source": [
    "** Running a Grid Search to find the best choice of C for the different metrics **"
   ]
  },
  {
   "cell_type": "code",
   "execution_count": 14,
   "metadata": {},
   "outputs": [
    {
     "name": "stdout",
     "output_type": "stream",
     "text": [
      "[10, 100, 1, 0.1, 0.01, 0.001, 0.0001]\n"
     ]
    }
   ],
   "source": [
    "#create a wide list of C's\n",
    "cs = [10, 100, 1, 0.1, 0.01, 0.001, 0.0001]  \n",
    "print(cs)"
   ]
  },
  {
   "cell_type": "code",
   "execution_count": 15,
   "metadata": {},
   "outputs": [
    {
     "name": "stdout",
     "output_type": "stream",
     "text": [
      "Fitting 5 folds for each of 7 candidates, totalling 35 fits\n"
     ]
    },
    {
     "name": "stderr",
     "output_type": "stream",
     "text": [
      "[Parallel(n_jobs=-1)]: Done  35 out of  35 | elapsed:   40.0s finished\n"
     ]
    },
    {
     "name": "stdout",
     "output_type": "stream",
     "text": [
      "*********RESULTS FOR PRECISION************\n",
      "Best score: 0.8742681441596377\n",
      "Best choice of C: 0.01\n",
      "Fitting 5 folds for each of 7 candidates, totalling 35 fits\n"
     ]
    },
    {
     "name": "stderr",
     "output_type": "stream",
     "text": [
      "[Parallel(n_jobs=-1)]: Done  35 out of  35 | elapsed:   40.1s finished\n"
     ]
    },
    {
     "name": "stdout",
     "output_type": "stream",
     "text": [
      "*********RESULTS FOR ACCURACY************\n",
      "Best score: 0.9991573218635476\n",
      "Best choice of C: 0.1\n",
      "Fitting 5 folds for each of 7 candidates, totalling 35 fits\n"
     ]
    },
    {
     "name": "stderr",
     "output_type": "stream",
     "text": [
      "[Parallel(n_jobs=-1)]: Done  35 out of  35 | elapsed:   40.6s finished\n"
     ]
    },
    {
     "name": "stdout",
     "output_type": "stream",
     "text": [
      "*********RESULTS FOR ROC_AUC************\n",
      "Best score: 0.9797313990450267\n",
      "Best choice of C: 0.01\n"
     ]
    }
   ],
   "source": [
    "lm = LogisticRegression(random_state=0) \n",
    "\n",
    "#**********Run Grid search for precision***************** \n",
    "\n",
    "grid = GridSearchCV(estimator=lm, param_grid=dict(C=cs), scoring='precision', verbose=1, cv=5, n_jobs=-1, refit=True)\n",
    "grid.fit(Xtr, ytr)  \n",
    "\n",
    "print(\"*********RESULTS FOR PRECISION************\")\n",
    "print(\"Best score: %s\" % grid.best_score_)\n",
    "print(\"Best choice of C: %s\" % grid.best_estimator_.C)\n",
    "\n",
    "#***********Run Grid search for Accuracy*****************\n",
    "\n",
    "grid_accuracy = GridSearchCV(estimator=lm, param_grid=dict(C=cs), scoring='accuracy', verbose=1, cv=5, n_jobs=-1, refit=True)\n",
    "grid_accuracy.fit(Xtr, ytr)\n",
    "\n",
    "print(\"*********RESULTS FOR ACCURACY************\")\n",
    "print(\"Best score: %s\" % grid_accuracy.best_score_)\n",
    "print(\"Best choice of C: %s\" % grid_accuracy.best_estimator_.C)\n",
    "\n",
    "#************Run Grid search for Roc_Auc*****************\n",
    "\n",
    "grid_auc = GridSearchCV(estimator=lm, param_grid=dict(C=cs), scoring='roc_auc', verbose=1, cv=5, n_jobs=-1, refit=True)\n",
    "grid_auc.fit(Xtr, ytr)  # fit \n",
    "\n",
    "print(\"*********RESULTS FOR ROC_AUC************\")\n",
    "print(\"Best score: %s\" % grid_auc.best_score_)\n",
    "print(\"Best choice of C: %s\" % grid_auc.best_estimator_.C)"
   ]
  },
  {
   "cell_type": "markdown",
   "metadata": {},
   "source": [
    "** I am selecting C of 0.01 to build my model because it is the best choice for both ROC-AUC and Precision **"
   ]
  },
  {
   "cell_type": "code",
   "execution_count": 16,
   "metadata": {
    "collapsed": true
   },
   "outputs": [],
   "source": [
    "#creating a new list with the seleceted best choice of C\n",
    "cs2 = [0.01]"
   ]
  },
  {
   "cell_type": "code",
   "execution_count": 17,
   "metadata": {},
   "outputs": [
    {
     "name": "stderr",
     "output_type": "stream",
     "text": [
      "[Parallel(n_jobs=-1)]: Done   2 out of   4 | elapsed:    2.5s remaining:    2.5s\n",
      "[Parallel(n_jobs=-1)]: Done   4 out of   4 | elapsed:    3.0s finished\n"
     ]
    }
   ],
   "source": [
    "#Build new model using best choice of C and 4 Folds for cross validation.\n",
    "final_model = LogisticRegressionCV(penalty='l2', Cs=cs2, cv= 4, n_jobs=-1, verbose=1, scoring='roc_auc').fit(Xtr, ytr)"
   ]
  },
  {
   "cell_type": "code",
   "execution_count": 18,
   "metadata": {
    "collapsed": true
   },
   "outputs": [],
   "source": [
    "#Make predictions on the test data set \n",
    "final_preds = final_model.predict(Xte)"
   ]
  },
  {
   "cell_type": "code",
   "execution_count": 19,
   "metadata": {
    "collapsed": true
   },
   "outputs": [],
   "source": [
    "#Get the actual probablilities for every prediction\n",
    "final_prob_preds = final_model.predict_proba(Xte)"
   ]
  },
  {
   "cell_type": "code",
   "execution_count": 20,
   "metadata": {},
   "outputs": [
    {
     "name": "stdout",
     "output_type": "stream",
     "text": [
      "[ 0.96781383  0.98833507  0.97761752  0.98033584  0.98739487]\n"
     ]
    },
    {
     "name": "stderr",
     "output_type": "stream",
     "text": [
      "[Parallel(n_jobs=-1)]: Done   5 out of   5 | elapsed:   14.6s finished\n"
     ]
    }
   ],
   "source": [
    "#Check the strength of the model using KFold to ensure that there is uniformity across the data and that the best model was built.\n",
    "tuned_final_scores = cross_val_score(final_model, X, y, cv= 5, scoring='roc_auc',n_jobs=-1, verbose=1)\n",
    "print(tuned_final_scores)\n"
   ]
  },
  {
   "cell_type": "code",
   "execution_count": 21,
   "metadata": {},
   "outputs": [
    {
     "name": "stdout",
     "output_type": "stream",
     "text": [
      "Accuracy of my model based on ROC AUC Metric is:  0.98029942734\n"
     ]
    }
   ],
   "source": [
    "print(\"Accuracy of my model based on ROC AUC Metric is: \", np.mean(tuned_final_scores))"
   ]
  },
  {
   "cell_type": "markdown",
   "metadata": {},
   "source": [
    "**The AUC score: **"
   ]
  },
  {
   "cell_type": "code",
   "execution_count": 22,
   "metadata": {},
   "outputs": [
    {
     "data": {
      "text/plain": [
       "0.98315445590195316"
      ]
     },
     "execution_count": 22,
     "metadata": {},
     "output_type": "execute_result"
    }
   ],
   "source": [
    "roc_auc_score(yte, final_prob_preds[:,1], average='macro', sample_weight = None)"
   ]
  },
  {
   "cell_type": "markdown",
   "metadata": {},
   "source": [
    "** Plotting an ROC Curve for Illustration Purposes **"
   ]
  },
  {
   "cell_type": "code",
   "execution_count": 23,
   "metadata": {},
   "outputs": [
    {
     "data": {
      "image/png": "[encoded data removed]",
      "text/plain": [
       "<matplotlib.figure.Figure at 0x15c71eec7b8>"
      ]
     },
     "metadata": {},
     "output_type": "display_data"
    }
   ],
   "source": [
    "def plot_roc(actual, predicted):\n",
    "    fpr, tpr, thr = roc_curve(actual, predicted)\n",
    "    roc_auc = auc(fpr, tpr)\n",
    "    figsize(12, 8)\n",
    "    plt.plot(fpr, tpr, label='ROC curve (area = %0.2f)' % roc_auc)\n",
    "    plt.plot([0, 1], [0, 1], 'k--')\n",
    "    plt.xlim([0.0, 1.0])\n",
    "    plt.ylim([0.0, 1.05])\n",
    "    plt.xlabel('False Positive Rate')\n",
    "    plt.ylabel('True Positive Rate')\n",
    "    plt.title('ROC (Class 1)')\n",
    "    plt.legend(loc=\"lower right\");\n",
    "    \n",
    "plot_roc(yte, final_prob_preds[:,1])"
   ]
  },
  {
   "cell_type": "markdown",
   "metadata": {},
   "source": [
    "# Number 2\n",
    "Build the best regularized linear model (lasso or ridge) you can to predict the amount of each charge. Use  kk -fold cross-validation to assess the quality of the model. Use MSE as your primary metric. How does your model compare to the null prediction? (In this case, take the null prediction to be the mean value of the target variable)."
   ]
  },
  {
   "cell_type": "code",
   "execution_count": 24,
   "metadata": {
    "collapsed": true
   },
   "outputs": [],
   "source": [
    "#creating my predictors and response variables\n",
    "X2 = cc[['Time','V1','V2','V3','V4','V5','V6','V7', 'V8','V9','V10','V11','V12','V13','V14','V15','V16','V17','V18','V19','V20',\n",
    "        'V21','V22','V23','V24', 'V25','V26','V27','V28']]\n",
    "y2 = cc['Amount']"
   ]
  },
  {
   "cell_type": "code",
   "execution_count": 25,
   "metadata": {
    "collapsed": true
   },
   "outputs": [],
   "source": [
    "#standardizing all the predictors.\n",
    "scaler = StandardScaler()\n",
    "X2s = scaler.fit_transform(X2)"
   ]
  },
  {
   "cell_type": "code",
   "execution_count": 26,
   "metadata": {
    "collapsed": true
   },
   "outputs": [],
   "source": [
    "#splitting the data into train and test\n",
    "X2tr, X2te, y2tr, y2te = train_test_split(X2s, y2, test_size=0.2, random_state=0)"
   ]
  },
  {
   "cell_type": "code",
   "execution_count": 27,
   "metadata": {},
   "outputs": [
    {
     "name": "stderr",
     "output_type": "stream",
     "text": [
      "....................................................................................................................................................................................................................................................................................................................................................................................................................................................................................................................[Parallel(n_jobs=-1)]: Done   5 out of   5 | elapsed:    2.0s finished\n"
     ]
    },
    {
     "data": {
      "text/plain": [
       "LassoCV(alphas=None, copy_X=True, cv=5, eps=0.001, fit_intercept=True,\n",
       "    max_iter=1000, n_alphas=100, n_jobs=-1, normalize=True, positive=False,\n",
       "    precompute='auto', random_state=0, selection='cyclic', tol=0.0001,\n",
       "    verbose=1)"
      ]
     },
     "execution_count": 27,
     "metadata": {},
     "output_type": "execute_result"
    }
   ],
   "source": [
    "#Base model and test for best possible alpha value\n",
    "model_lasso = LassoCV(n_jobs=-1, cv = 5, random_state=0, normalize=True, verbose=1, copy_X = True)\n",
    "model_lasso.fit(X2tr, y2tr)\n"
   ]
  },
  {
   "cell_type": "code",
   "execution_count": 28,
   "metadata": {},
   "outputs": [
    {
     "data": {
      "text/plain": [
       "0.00027981669603212734"
      ]
     },
     "execution_count": 28,
     "metadata": {},
     "output_type": "execute_result"
    }
   ],
   "source": [
    "#show the best alpha value \n",
    "model_lasso.alpha_"
   ]
  },
  {
   "cell_type": "code",
   "execution_count": 29,
   "metadata": {},
   "outputs": [
    {
     "data": {
      "text/plain": [
       "array([  -0.41412588,  -56.01186297, -132.2935986 ,  -52.42362614,\n",
       "         24.20615386,  -96.4157684 ,   53.94040863,   99.22839094,\n",
       "        -25.79869614,  -11.09455336,  -25.36575472,   -0.16283123,\n",
       "         -2.21937579,    1.07617269,    8.4653934 ,   -0.78584699,\n",
       "         -0.90707232,    1.84026148,    9.05718739,  -14.11545336,\n",
       "         85.63169641,   26.86867455,  -16.02003267,  -28.18706836,\n",
       "          1.11168983,  -11.92122662,   -0.7256215 ,    7.4352915 ,\n",
       "          2.45240134])"
      ]
     },
     "execution_count": 29,
     "metadata": {},
     "output_type": "execute_result"
    }
   ],
   "source": [
    "model_lasso.coef_"
   ]
  },
  {
   "cell_type": "code",
   "execution_count": 30,
   "metadata": {
    "collapsed": true
   },
   "outputs": [],
   "source": [
    "#Making predictions on the test data\n",
    "lasso_preds = model_lasso.predict(X2te)"
   ]
  },
  {
   "cell_type": "code",
   "execution_count": 31,
   "metadata": {},
   "outputs": [
    {
     "data": {
      "text/plain": [
       "0.92184258742589309"
      ]
     },
     "execution_count": 31,
     "metadata": {},
     "output_type": "execute_result"
    }
   ],
   "source": [
    "#The Rsquared score of the model:\n",
    "model_lasso.score(X2te, y2te)"
   ]
  },
  {
   "cell_type": "code",
   "execution_count": 32,
   "metadata": {
    "collapsed": true
   },
   "outputs": [],
   "source": [
    "#Getting the null value\n",
    "null = y2te.mean() "
   ]
  },
  {
   "cell_type": "markdown",
   "metadata": {},
   "source": [
    "**The MSE of the current model: **"
   ]
  },
  {
   "cell_type": "code",
   "execution_count": 33,
   "metadata": {},
   "outputs": [
    {
     "name": "stdout",
     "output_type": "stream",
     "text": [
      "The mean square error for the model predictions is:  4652.90138847\n"
     ]
    }
   ],
   "source": [
    "print(\"The mean square error for the model predictions is: \",mean_squared_error(y2te, lasso_preds))"
   ]
  },
  {
   "cell_type": "code",
   "execution_count": 34,
   "metadata": {
    "collapsed": true
   },
   "outputs": [],
   "source": [
    "#Creating a list the length of my test data filled with the null value \n",
    "null_preds = []\n",
    "for i in range (0,len(y2te)):\n",
    "    null_preds.append(null)"
   ]
  },
  {
   "cell_type": "markdown",
   "metadata": {},
   "source": [
    "** The MSE of the Null Predictions: **"
   ]
  },
  {
   "cell_type": "code",
   "execution_count": 35,
   "metadata": {},
   "outputs": [
    {
     "name": "stdout",
     "output_type": "stream",
     "text": [
      "The mean square error for the null predictions is:  59532.4388977\n"
     ]
    }
   ],
   "source": [
    "print(\"The mean square error for the null predictions is: \",mean_squared_error(y2te, null_preds))"
   ]
  },
  {
   "cell_type": "markdown",
   "metadata": {},
   "source": [
    "** Cross Validation with KFold **"
   ]
  },
  {
   "cell_type": "code",
   "execution_count": 36,
   "metadata": {},
   "outputs": [
    {
     "name": "stdout",
     "output_type": "stream",
     "text": [
      "[ 5714.08167435  5788.21648086  5153.49523975  5292.96347036  4470.95724694]\n"
     ]
    },
    {
     "name": "stderr",
     "output_type": "stream",
     "text": [
      "[Parallel(n_jobs=-1)]: Done   5 out of   5 | elapsed:   14.1s finished\n"
     ]
    }
   ],
   "source": [
    "#Check the strength of the lasso model using KFold and mean square error metric.\n",
    "crossval_lasso = cross_val_score(model_lasso, X2, y2, cv= 5, scoring='neg_mean_squared_error',n_jobs=-1, verbose=1)\n",
    "print(-crossval_lasso)"
   ]
  },
  {
   "cell_type": "code",
   "execution_count": 37,
   "metadata": {},
   "outputs": [
    {
     "name": "stdout",
     "output_type": "stream",
     "text": [
      "The average MSE for the model based on the dataset is:  5283.94282245\n"
     ]
    }
   ],
   "source": [
    "#Correcting the negative signs on the MSE cross evaluation\n",
    "new_crossval_lasso = -crossval_lasso\n",
    "print(\"The average MSE for the model based on the dataset is: \",np.mean(new_crossval_lasso))"
   ]
  },
  {
   "cell_type": "code",
   "execution_count": 38,
   "metadata": {},
   "outputs": [
    {
     "data": {
      "image/png": "[encoded data removed]",
      "text/plain": [
       "<matplotlib.figure.Figure at 0x15c009de9b0>"
      ]
     },
     "metadata": {},
     "output_type": "display_data"
    }
   ],
   "source": [
    "#plot mean square error for each fold\n",
    "xaxis = -np.log10(model_lasso.alphas_)\n",
    "plt.figure()\n",
    "plt.plot(xaxis, model_lasso.mse_path_, ':')\n",
    "plt.plot(xaxis, model_lasso.mse_path_.mean(axis=-1), 'k', label='Average across the folds', linewidth=2)\n",
    "plt.axvline(-np.log10(model_lasso.alpha_), linestyle='-', color='k', label='alpha CV')\n",
    "plt.legend()\n",
    "plt.xlabel('-log(alpha)')\n",
    "plt.ylabel('Mean squared error')\n",
    "plt.title('Mean squared error on each fold')\n",
    "plt.show()"
   ]
  },
  {
   "cell_type": "markdown",
   "metadata": {
    "collapsed": true
   },
   "source": [
    "# Reducing The Variables"
   ]
  },
  {
   "cell_type": "code",
   "execution_count": 39,
   "metadata": {
    "collapsed": true
   },
   "outputs": [],
   "source": [
    "#Testing with different alphas to reduce the number of variables and keep only strong predictors\n",
    "Test_Lasso = Lasso(alpha = 2 ).fit(X2tr, y2tr)"
   ]
  },
  {
   "cell_type": "code",
   "execution_count": 40,
   "metadata": {},
   "outputs": [
    {
     "data": {
      "text/plain": [
       "Time     -0.000000\n",
       "V1      -54.257390\n",
       "V2     -130.490190\n",
       "V3      -50.427728\n",
       "V4       22.394238\n",
       "V5      -94.669335\n",
       "V6       52.116966\n",
       "V7       97.376624\n",
       "V8      -23.951204\n",
       "V9       -9.203466\n",
       "V10     -23.479807\n",
       "V11      -0.000000\n",
       "V12      -0.421118\n",
       "V13       0.000000\n",
       "V14       6.602055\n",
       "V15      -0.000000\n",
       "V16      -0.000000\n",
       "V17       0.000000\n",
       "V18       7.142826\n",
       "V19     -12.260134\n",
       "V20      83.695478\n",
       "V21      24.916376\n",
       "V22     -14.208316\n",
       "V23     -26.427850\n",
       "V24       0.000000\n",
       "V25      -9.962728\n",
       "V26      -0.000000\n",
       "V27       5.561890\n",
       "V28       0.544284\n",
       "dtype: float64"
      ]
     },
     "execution_count": 40,
     "metadata": {},
     "output_type": "execute_result"
    }
   ],
   "source": [
    "pd.Series(Test_Lasso.coef_, index=X2.columns)"
   ]
  },
  {
   "cell_type": "markdown",
   "metadata": {},
   "source": [
    "**  Alpha set at 2 turned out to give the best results  **"
   ]
  },
  {
   "cell_type": "code",
   "execution_count": 41,
   "metadata": {
    "collapsed": true
   },
   "outputs": [],
   "source": [
    "drop = np.isclose(Test_Lasso.coef_, np.zeros(shape=Test_Lasso.coef_.shape)).flatten()\n",
    "keep = []\n",
    "for i in range(len(drop)):\n",
    "    if not drop[i]:\n",
    "        keep.append(i)"
   ]
  },
  {
   "cell_type": "code",
   "execution_count": 42,
   "metadata": {},
   "outputs": [
    {
     "data": {
      "text/plain": [
       "[1, 2, 3, 4, 5, 6, 7, 8, 9, 10, 12, 14, 18, 19, 20, 21, 22, 23, 25, 27, 28]"
      ]
     },
     "execution_count": 42,
     "metadata": {},
     "output_type": "execute_result"
    }
   ],
   "source": [
    "keep"
   ]
  },
  {
   "cell_type": "code",
   "execution_count": 43,
   "metadata": {},
   "outputs": [
    {
     "name": "stderr",
     "output_type": "stream",
     "text": [
      "....................................................................................................................................................................................................................................................................................................................................................................................................................................................................................................................[Parallel(n_jobs=-1)]: Done   5 out of   5 | elapsed:    2.6s finished\n"
     ]
    }
   ],
   "source": [
    "final_lasso = LassoCV(n_jobs=-1, cv = 5, random_state=0, normalize=True, verbose=1, copy_X = True).fit(X2s[:,keep], y2)"
   ]
  },
  {
   "cell_type": "markdown",
   "metadata": {},
   "source": [
    "** Cross Validation using KFold and mean square error scoring metric  **"
   ]
  },
  {
   "cell_type": "code",
   "execution_count": 44,
   "metadata": {
    "collapsed": true
   },
   "outputs": [],
   "source": [
    "final_lasso_kfold = cross_val_score(final_lasso, X2s[:, keep], y2, cv = 6, scoring='neg_mean_squared_error', n_jobs=-1)"
   ]
  },
  {
   "cell_type": "code",
   "execution_count": 45,
   "metadata": {},
   "outputs": [
    {
     "name": "stdout",
     "output_type": "stream",
     "text": [
      "[ 6077.19846002  6119.94733752  4495.79142826  5602.08518191  5133.5776776\n",
      "  4311.04996152]\n",
      "The average value for Mean Square Error on the dataset after Cross Evaluation is:  5289.94167447\n"
     ]
    }
   ],
   "source": [
    "print(-final_lasso_kfold)\n",
    "print(\"The average value for Mean Square Error on the dataset after Cross Evaluation is: \",np.mean(-final_lasso_kfold))"
   ]
  },
  {
   "cell_type": "code",
   "execution_count": 46,
   "metadata": {
    "collapsed": true
   },
   "outputs": [],
   "source": [
    "lasso2_preds = final_lasso.predict(X2te[:, keep])"
   ]
  },
  {
   "cell_type": "code",
   "execution_count": 47,
   "metadata": {},
   "outputs": [
    {
     "data": {
      "text/plain": [
       "0.92210397882843453"
      ]
     },
     "execution_count": 47,
     "metadata": {},
     "output_type": "execute_result"
    }
   ],
   "source": [
    "final_lasso.score(X2te[:, keep], y2te)"
   ]
  },
  {
   "cell_type": "markdown",
   "metadata": {},
   "source": [
    "**  MSE of final model with reduced predictors  **"
   ]
  },
  {
   "cell_type": "code",
   "execution_count": 48,
   "metadata": {},
   "outputs": [
    {
     "data": {
      "text/plain": [
       "4637.3401207732977"
      ]
     },
     "execution_count": 48,
     "metadata": {},
     "output_type": "execute_result"
    }
   ],
   "source": [
    "mean_squared_error(y2te, lasso2_preds)"
   ]
  },
  {
   "cell_type": "markdown",
   "metadata": {},
   "source": [
    "Upon using Lasso regularization to detect the weak predictors and removing them from the model, I got an MSE of **4637.3** which is better than the MSE of **4924.6** from my initial model.\n",
    "\n",
    "The MSE is also much better than that of the Null Predictions. Overall, I beleive that I was able to use Lasso Regularization to improve upon my linear model.\n"
   ]
  },
  {
   "cell_type": "code",
   "execution_count": null,
   "metadata": {
    "collapsed": true
   },
   "outputs": [],
   "source": []
  }
 ],
 "metadata": {
  "kernelspec": {
   "display_name": "Python 3",
   "language": "python",
   "name": "python3"
  },
  "language_info": {
   "codemirror_mode": {
    "name": "ipython",
    "version": 3
   },
   "file_extension": ".py",
   "mimetype": "text/x-python",
   "name": "python",
   "nbconvert_exporter": "python",
   "pygments_lexer": "ipython3",
   "version": "3.6.0"
  }
 },
 "nbformat": 4,
 "nbformat_minor": 2
}
