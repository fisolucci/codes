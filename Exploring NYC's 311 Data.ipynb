{
 "cells": [
  {
   "cell_type": "markdown",
   "metadata": {},
   "source": [
    "# Exploring NYC's 311 Data "
   ]
  },
  {
   "cell_type": "code",
   "execution_count": 59,
   "metadata": {
    "collapsed": true
   },
   "outputs": [],
   "source": [
    "'''\n",
    "MINIMUM REQUIRED IMPORTS\n",
    "DO NOT CHANGE ANYTHING IN THIS CELL\n",
    "YOU MUST RUN THIS CELL TO CONTINUE\n",
    "'''\n",
    "\n",
    "import numpy as np\n",
    "import pandas as pd\n",
    "import seaborn as sns\n",
    "import matplotlib.pyplot as plt\n",
    "import datetime\n",
    "\n",
    "% matplotlib inline\n",
    "plt.rcParams['figure.figsize'] = (8,5)"
   ]
  },
  {
   "cell_type": "markdown",
   "metadata": {},
   "source": [
    "# Load the data\n",
    "\n",
    "Change the path in the command below to match the path to the dataset on your machine, then run the command below. Note that you will likely get a warning about mixed types when you load this file. This means what it sounds like: some columns in the file have what appear to be different data types. The columns\n",
    "are indicated and this may warrant further investigation."
   ]
  },
  {
   "cell_type": "code",
   "execution_count": 36,
   "metadata": {},
   "outputs": [
    {
     "name": "stderr",
     "output_type": "stream",
     "text": [
      "C:\\Users\\fisol\\Anaconda3\\lib\\site-packages\\IPython\\core\\interactiveshell.py:2717: DtypeWarning: Columns (8,17,40,41,43,44,45,47,48,49) have mixed types. Specify dtype option on import or set low_memory=False.\n",
      "  interactivity=interactivity, compiler=compiler, result=result)\n"
     ]
    }
   ],
   "source": [
    "# change the path!\n",
    "complaints = pd.read_csv('C:/Users/fisol/Desktop/Class Docs/DATA 803/Python II - Johnson/Home Work/311_Service_Requests_from_2010_to_Present.csv', nrows=1e6) #1e6=1000000"
   ]
  },
  {
   "cell_type": "code",
   "execution_count": 61,
   "metadata": {},
   "outputs": [
    {
     "data": {
      "text/plain": [
       "Index(['Unique Key', 'Created Date', 'Closed Date', 'Agency', 'Agency Name',\n",
       "       'Complaint Type', 'Descriptor', 'Location Type', 'Incident Zip',\n",
       "       'Incident Address', 'Street Name', 'Cross Street 1', 'Cross Street 2',\n",
       "       'Intersection Street 1', 'Intersection Street 2', 'Address Type',\n",
       "       'City', 'Landmark', 'Facility Type', 'Status', 'Due Date',\n",
       "       'Resolution Description', 'Resolution Action Updated Date',\n",
       "       'Community Board', 'Borough', 'X Coordinate (State Plane)',\n",
       "       'Y Coordinate (State Plane)', 'Park Facility Name', 'Park Borough',\n",
       "       'School Name', 'School Number', 'School Region', 'School Code',\n",
       "       'School Phone Number', 'School Address', 'School City', 'School State',\n",
       "       'School Zip', 'School Not Found', 'School or Citywide Complaint',\n",
       "       'Vehicle Type', 'Taxi Company Borough', 'Taxi Pick Up Location',\n",
       "       'Bridge Highway Name', 'Bridge Highway Direction', 'Road Ramp',\n",
       "       'Bridge Highway Segment', 'Garage Lot Name', 'Ferry Direction',\n",
       "       'Ferry Terminal Name', 'Latitude', 'Longitude', 'Location', 'Hours'],\n",
       "      dtype='object')"
      ]
     },
     "execution_count": 61,
     "metadata": {},
     "output_type": "execute_result"
    }
   ],
   "source": [
    "# column names\n",
    "complaints.columns"
   ]
  },
  {
   "cell_type": "code",
   "execution_count": 38,
   "metadata": {},
   "outputs": [
    {
     "name": "stdout",
     "output_type": "stream",
     "text": [
      "Number of columns: 53\n"
     ]
    }
   ],
   "source": [
    "print('Number of columns: {}'.format(len(complaints.columns))) #53 columns"
   ]
  },
  {
   "cell_type": "markdown",
   "metadata": {},
   "source": [
    "Most of the first 1000000 complaints are coming from Brooklyn."
   ]
  },
  {
   "cell_type": "code",
   "execution_count": 39,
   "metadata": {},
   "outputs": [
    {
     "data": {
      "text/plain": [
       "BROOKLYN         292336\n",
       "NEW YORK         190517\n",
       "BRONX            167261\n",
       "STATEN ISLAND     52705\n",
       "Jamaica           12305\n",
       "Name: City, dtype: int64"
      ]
     },
     "execution_count": 39,
     "metadata": {},
     "output_type": "execute_result"
    }
   ],
   "source": [
    "complaints.City.value_counts().head() #so most complaints are coming from Brooklyn"
   ]
  },
  {
   "cell_type": "markdown",
   "metadata": {},
   "source": [
    "# Part 1\n",
    "\n",
    "What are the 10 most common complaints in each of the five boroughs (Manhattan, Queens, Brooklyn, the Bronx, Staten Island)? Generate bar charts displaying this data."
   ]
  },
  {
   "cell_type": "markdown",
   "metadata": {},
   "source": [
    "<h1 style=\"text-align: center;\"><span style=\"color: #333399;\">Manhattan Borough</span></h1>\n",
    "<hr />\n"
   ]
  },
  {
   "cell_type": "code",
   "execution_count": 131,
   "metadata": {},
   "outputs": [
    {
     "name": "stdout",
     "output_type": "stream",
     "text": [
      "Top 10 complaints in Manhattan: \n",
      " Noise - Residential        18068\n",
      "Noise - Street/Sidewalk    14258\n",
      "Noise                       9609\n",
      "HEAT/HOT WATER              9423\n",
      "Street Condition            7771\n",
      "UNSANITARY CONDITION        7596\n",
      "Illegal Parking             7444\n",
      "Noise - Commercial          6612\n",
      "Water System                6115\n",
      "PAINT/PLASTER               6029\n",
      "Name: Complaint Type, dtype: int64\n"
     ]
    },
    {
     "data": {
      "text/plain": [
       "<matplotlib.axes._subplots.AxesSubplot at 0x253bf811a58>"
      ]
     },
     "execution_count": 131,
     "metadata": {},
     "output_type": "execute_result"
    },
    {
     "data": {
      "image/png": "[encoded data removed]",
      "text/plain": [
       "<matplotlib.figure.Figure at 0x253bf861438>"
      ]
     },
     "metadata": {},
     "output_type": "display_data"
    }
   ],
   "source": [
    "man_complaint = complaints['Borough'] == \"MANHATTAN\"\n",
    "\n",
    "man = complaints[man_complaint] #manhattan subset of data\n",
    "\n",
    "man_final = man['Complaint Type'].value_counts().head(10)\n",
    "\n",
    "print(\"Top 10 complaints in Manhattan: \"'\\n',man_final)\n",
    "\n",
    "man_final.plot(kind='bar', grid=True,color='green', figsize=(16, 9))"
   ]
  },
  {
   "cell_type": "markdown",
   "metadata": {},
   "source": [
    "<h1 style=\"text-align: center;\"><span style=\"color: #333399;\">Queens</span></h1>\n",
    "<hr />\n"
   ]
  },
  {
   "cell_type": "code",
   "execution_count": 128,
   "metadata": {
    "scrolled": true
   },
   "outputs": [
    {
     "name": "stdout",
     "output_type": "stream",
     "text": [
      "Top 10 complaints in Queens\n",
      " Noise - Residential       21770\n",
      "Blocked Driveway          18687\n",
      "Street Condition          15111\n",
      "Illegal Parking           15041\n",
      "Street Light Condition    12603\n",
      "Water System               8223\n",
      "Building/Use               6471\n",
      "Sewer                      6095\n",
      "UNSANITARY CONDITION       5561\n",
      "Derelict Vehicle           5461\n",
      "Name: Complaint Type, dtype: int64\n"
     ]
    },
    {
     "data": {
      "text/plain": [
       "<matplotlib.axes._subplots.AxesSubplot at 0x253bf27f518>"
      ]
     },
     "execution_count": 128,
     "metadata": {},
     "output_type": "execute_result"
    },
    {
     "data": {
      "image/png": "[encoded data removed]",
      "text/plain": [
       "<matplotlib.figure.Figure at 0x253be3e3f98>"
      ]
     },
     "metadata": {},
     "output_type": "display_data"
    }
   ],
   "source": [
    "qn_complaint = complaints['Borough'] == \"QUEENS\"\n",
    "\n",
    "queen = complaints[qn_complaint]  #queens subset of data\n",
    "\n",
    "qn_final = queen['Complaint Type'].value_counts().head(10)\n",
    "\n",
    "print(\"Top 10 complaints in Queens\"'\\n',qn_final)\n",
    "\n",
    "qn_final.plot(kind='bar', grid=True,color='green', figsize=(16, 9))"
   ]
  },
  {
   "cell_type": "markdown",
   "metadata": {},
   "source": [
    "<h1 style=\"text-align: center;\"><span style=\"color: #333399;\">The Bronx</span></h1>\n",
    "<hr />\n"
   ]
  },
  {
   "cell_type": "code",
   "execution_count": 127,
   "metadata": {
    "scrolled": true
   },
   "outputs": [
    {
     "name": "stdout",
     "output_type": "stream",
     "text": [
      "Top 10 complaints in Bronx\n",
      " Noise - Residential        21628\n",
      "HEAT/HOT WATER             13408\n",
      "UNSANITARY CONDITION       10642\n",
      "PAINT/PLASTER               9153\n",
      "Street Light Condition      8171\n",
      "Blocked Driveway            7908\n",
      "Noise - Street/Sidewalk     7821\n",
      "PLUMBING                    7047\n",
      "Water System                6633\n",
      "Illegal Parking             5358\n",
      "Name: Complaint Type, dtype: int64\n"
     ]
    },
    {
     "data": {
      "text/plain": [
       "<matplotlib.axes._subplots.AxesSubplot at 0x253be33f128>"
      ]
     },
     "execution_count": 127,
     "metadata": {},
     "output_type": "execute_result"
    },
    {
     "data": {
      "image/png": "[encoded data removed]",
      "text/plain": [
       "<matplotlib.figure.Figure at 0x253bdb2b860>"
      ]
     },
     "metadata": {},
     "output_type": "display_data"
    }
   ],
   "source": [
    "br_complaint = complaints['Borough'] == \"BRONX\"\n",
    "\n",
    "bronx = complaints[br_complaint] #bronx subset of data\n",
    "\n",
    "br_final = bronx['Complaint Type'].value_counts().head(10)\n",
    "\n",
    "print(\"Top 10 complaints in Bronx\"'\\n',br_final)\n",
    "\n",
    "br_final.plot(kind='bar', grid=True,color='green', figsize=(16, 9))"
   ]
  },
  {
   "cell_type": "markdown",
   "metadata": {},
   "source": [
    "<h1 style=\"text-align: center;\"><span style=\"color: #333399;\">Staten Island Borough</span></h1>\n",
    "<hr />\n"
   ]
  },
  {
   "cell_type": "code",
   "execution_count": 126,
   "metadata": {},
   "outputs": [
    {
     "name": "stdout",
     "output_type": "stream",
     "text": [
      "Top 10 complaints in Staten Island\n",
      " Street Condition                     5441\n",
      "Electronics Waste                    4069\n",
      "Noise - Residential                  3436\n",
      "Illegal Parking                      2994\n",
      "Street Light Condition               2928\n",
      "Water System                         2117\n",
      "Sewer                                1881\n",
      "Missed Collection (All Materials)    1824\n",
      "Sanitation Condition                 1746\n",
      "Dirty Conditions                     1678\n",
      "Name: Complaint Type, dtype: int64\n"
     ]
    },
    {
     "data": {
      "text/plain": [
       "<matplotlib.axes._subplots.AxesSubplot at 0x253ba122b38>"
      ]
     },
     "execution_count": 126,
     "metadata": {},
     "output_type": "execute_result"
    },
    {
     "data": {
      "image/png": "[encoded data removed]",
      "text/plain": [
       "<matplotlib.figure.Figure at 0x253b3fb0160>"
      ]
     },
     "metadata": {},
     "output_type": "display_data"
    }
   ],
   "source": [
    "si_complaint = complaints['Borough'] == \"STATEN ISLAND\"\n",
    "\n",
    "staten = complaints[si_complaint]  #staten subset of data\n",
    "\n",
    "si_final = staten['Complaint Type'].value_counts().head(10)\n",
    "\n",
    "print(\"Top 10 complaints in Staten Island\"'\\n',si_final)\n",
    "\n",
    "si_final.plot(kind='bar', grid=True,color='green', figsize=(16, 9))"
   ]
  },
  {
   "cell_type": "markdown",
   "metadata": {},
   "source": [
    "<h1 style=\"text-align: center;\"><span style=\"color: #333399;\">Brooklyn</span></h1>\n",
    "<hr />"
   ]
  },
  {
   "cell_type": "code",
   "execution_count": 125,
   "metadata": {},
   "outputs": [
    {
     "name": "stdout",
     "output_type": "stream",
     "text": [
      "Top 10 complaints in Brooklyn\n",
      " Noise - Residential        29539\n",
      "Illegal Parking            17725\n",
      "Blocked Driveway           15991\n",
      "Street Condition           13950\n",
      "UNSANITARY CONDITION       12874\n",
      "HEAT/HOT WATER             12207\n",
      "Street Light Condition     11800\n",
      "Noise - Street/Sidewalk    10497\n",
      "Water System                9287\n",
      "PAINT/PLASTER               9221\n",
      "Name: Complaint Type, dtype: int64\n"
     ]
    },
    {
     "data": {
      "text/plain": [
       "<matplotlib.axes._subplots.AxesSubplot at 0x253b9c531d0>"
      ]
     },
     "execution_count": 125,
     "metadata": {},
     "output_type": "execute_result"
    },
    {
     "data": {
      "image/png": "[encoded data removed]",
      "text/plain": [
       "<matplotlib.figure.Figure at 0x253b9c823c8>"
      ]
     },
     "metadata": {},
     "output_type": "display_data"
    }
   ],
   "source": [
    "brkn_complaint = complaints['Borough'] == \"BROOKLYN\"\n",
    "\n",
    "brooklyn = complaints[brkn_complaint] #brooklyn subset of data\n",
    "\n",
    "brkn_final = brooklyn['Complaint Type'].value_counts().head(10)\n",
    "\n",
    "print(\"Top 10 complaints in Brooklyn\"'\\n',brkn_final)\n",
    "\n",
    "brkn_final.plot(kind='bar', grid=True,color='green', figsize=(16, 9))"
   ]
  },
  {
   "cell_type": "markdown",
   "metadata": {},
   "source": [
    "# Part 2\n",
    "\n",
    "Investigate noise complaints. In which city are these most common? Are there specific times that these complaints are most common? (Note that if you have only loaded this first million lines of the data, this may be somewhat uninteresting and you should look at a different chunk of the dataset). The following snippet shows how to extract hours by converting timestamps to Pandas datetimes and using the DatetimeIndex function."
   ]
  },
  {
   "cell_type": "code",
   "execution_count": 130,
   "metadata": {
    "collapsed": true
   },
   "outputs": [],
   "source": [
    "datetimes = pd.to_datetime(complaints['Created Date']) #convert to Pandas datetime object\n",
    "# print (datetimes[:5]) #take a look\n",
    "# pd.DatetimeIndex(datetimes[:5]).year #extract the hour from the datetime"
   ]
  },
  {
   "cell_type": "code",
   "execution_count": 68,
   "metadata": {},
   "outputs": [
    {
     "data": {
      "text/plain": [
       "Noise - Residential        95125\n",
       "Illegal Parking            48998\n",
       "Street Condition           47312\n",
       "Blocked Driveway           45155\n",
       "Street Light Condition     41189\n",
       "HEAT/HOT WATER             40703\n",
       "UNSANITARY CONDITION       37567\n",
       "Noise - Street/Sidewalk    36856\n",
       "Water System               32375\n",
       "PAINT/PLASTER              27749\n",
       "Name: Complaint Type, dtype: int64"
      ]
     },
     "execution_count": 68,
     "metadata": {},
     "output_type": "execute_result"
    }
   ],
   "source": [
    "complaints['Complaint Type'].value_counts().head(10) #checking for the most common complaints generally"
   ]
  },
  {
   "cell_type": "markdown",
   "metadata": {},
   "source": [
    "<p style=\"text-align: center;\"><span style=\"color: #333399;\">Residential <em>noise complaints</em> ranks highest amongst all complaints. </span></p>\n"
   ]
  },
  {
   "cell_type": "code",
   "execution_count": 110,
   "metadata": {
    "collapsed": true
   },
   "outputs": [],
   "source": [
    "total_noise = complaints[complaints['Complaint Type'].str.contains(\"Noise\")] #filtering out all the noise complaints"
   ]
  },
  {
   "cell_type": "code",
   "execution_count": 70,
   "metadata": {},
   "outputs": [
    {
     "data": {
      "text/plain": [
       "BROOKLYN               55878\n",
       "NEW YORK               53500\n",
       "BRONX                  35251\n",
       "STATEN ISLAND           5389\n",
       "JAMAICA                 3527\n",
       "ASTORIA                 2406\n",
       "CORONA                  1777\n",
       "RIDGEWOOD               1605\n",
       "FLUSHING                1370\n",
       "SOUTH RICHMOND HILL     1336\n",
       "Name: City, dtype: int64"
      ]
     },
     "execution_count": 70,
     "metadata": {},
     "output_type": "execute_result"
    }
   ],
   "source": [
    "total_noise['City'].value_counts().head(10)"
   ]
  },
  {
   "cell_type": "markdown",
   "metadata": {},
   "source": [
    "<p style=\"text-align: center;\"><span style=\"color: #333399;\">Noise complaints feature mostly in Brooklyn, New York City and the Bronx. </span></p>"
   ]
  },
  {
   "cell_type": "code",
   "execution_count": 124,
   "metadata": {},
   "outputs": [
    {
     "data": {
      "text/plain": [
       "<matplotlib.axes._subplots.AxesSubplot at 0x253b3fe28d0>"
      ]
     },
     "execution_count": 124,
     "metadata": {},
     "output_type": "execute_result"
    },
    {
     "data": {
      "image/png": "[encoded data removed]",
      "text/plain": [
       "<matplotlib.figure.Figure at 0x253b9c46128>"
      ]
     },
     "metadata": {},
     "output_type": "display_data"
    }
   ],
   "source": [
    "total_noise['City'].value_counts().head(10).plot(kind='bar',color='green', grid=True, figsize=(16, 9))"
   ]
  },
  {
   "cell_type": "code",
   "execution_count": 71,
   "metadata": {
    "collapsed": true
   },
   "outputs": [],
   "source": [
    "complaints['Hours'] = pd.DatetimeIndex(datetimes).hour"
   ]
  },
  {
   "cell_type": "markdown",
   "metadata": {},
   "source": [
    "<p style=\"text-align: center;\"><span style=\"color: #333399;\"><strong>Noise Complaints</strong><br>\n",
    "\n",
    "From the given data, we see that majority of the noise complaints are created during the late hours of the day with <br>the bulk of them being within the hours of 11 PM, 10 PM and Midnight. </span></p>"
   ]
  },
  {
   "cell_type": "code",
   "execution_count": 72,
   "metadata": {
    "scrolled": false
   },
   "outputs": [
    {
     "data": {
      "text/plain": [
       "23    25125\n",
       "22    23078\n",
       "0     19887\n",
       "21    16255\n",
       "1     13767\n",
       "20    11803\n",
       "19     8721\n",
       "2      8268\n",
       "18     6946\n",
       "17     5582\n",
       "Name: Hours, dtype: int64"
      ]
     },
     "execution_count": 72,
     "metadata": {},
     "output_type": "execute_result"
    }
   ],
   "source": [
    "total_noise['Hours'].value_counts().head(10)"
   ]
  },
  {
   "cell_type": "code",
   "execution_count": 144,
   "metadata": {
    "collapsed": true
   },
   "outputs": [],
   "source": [
    "noise_hour= pd.crosstab(total_noise['Hours'],total_noise['Complaint Type'])"
   ]
  },
  {
   "cell_type": "code",
   "execution_count": 145,
   "metadata": {},
   "outputs": [
    {
     "data": {
      "text/plain": [
       "<matplotlib.axes._subplots.AxesSubplot at 0x2541f495ef0>"
      ]
     },
     "execution_count": 145,
     "metadata": {},
     "output_type": "execute_result"
    },
    {
     "data": {
      "image/png": "[encoded data removed]",
      "text/plain": [
       "<matplotlib.figure.Figure at 0x2541f434b70>"
      ]
     },
     "metadata": {},
     "output_type": "display_data"
    }
   ],
   "source": [
    "noise_hour.plot(kind='bar', stacked=True, figsize=(16, 9))"
   ]
  },
  {
   "cell_type": "code",
   "execution_count": 123,
   "metadata": {},
   "outputs": [
    {
     "data": {
      "text/plain": [
       "<matplotlib.axes._subplots.AxesSubplot at 0x253b3f1fa58>"
      ]
     },
     "execution_count": 123,
     "metadata": {},
     "output_type": "execute_result"
    },
    {
     "data": {
      "image/png": "[encoded data removed]",
      "text/plain": [
       "<matplotlib.figure.Figure at 0x253b3fa60b8>"
      ]
     },
     "metadata": {},
     "output_type": "display_data"
    }
   ],
   "source": [
    "total_noise['Hours'].value_counts().head(10).plot(kind='bar', color='green',grid=True, figsize=(16, 9))"
   ]
  },
  {
   "cell_type": "markdown",
   "metadata": {
    "collapsed": true
   },
   "source": [
    "# Part 3\n",
    "\n",
    "For the top five complaints in each borough, determine the average wait time and the standard deviation of wait time between when a complaint is raised and when it is resolved. "
   ]
  },
  {
   "cell_type": "code",
   "execution_count": 75,
   "metadata": {
    "collapsed": true
   },
   "outputs": [],
   "source": [
    "datetimes2 = pd.to_datetime(complaints['Closed Date'])"
   ]
  },
  {
   "cell_type": "code",
   "execution_count": 76,
   "metadata": {
    "collapsed": true
   },
   "outputs": [],
   "source": [
    "complaints['Wait Time'] = datetimes2 - datetimes"
   ]
  },
  {
   "cell_type": "markdown",
   "metadata": {},
   "source": [
    "<span style=\"color: #0000ff;\"><strong>Top 5 Complaints In Manhattan</strong></span>\n",
    "\n",
    "The average wait time for complaints in Manhattan is approximately <span style=\"color: #0000ff;\"><strong>2 days 10 hours</strong></span> and the standard deviation is approximately <span style=\"color: #0000ff;\"><strong>18 days and 17 hours</strong></span>\n",
    "\n",
    "<hr />"
   ]
  },
  {
   "cell_type": "code",
   "execution_count": 87,
   "metadata": {
    "collapsed": true
   },
   "outputs": [],
   "source": [
    "Manhattan_Noise = man[(man['Complaint Type'] == 'Noise - Residential') | (man['Complaint Type'] == 'Noise - Street/Sidewalk') | (man['Complaint Type'] == 'Noise') | (man['Complaint Type'] == 'Street Condition')  |  (man['Complaint Type'] == 'HEAT/HOT WATER')]                              "
   ]
  },
  {
   "cell_type": "code",
   "execution_count": 88,
   "metadata": {},
   "outputs": [
    {
     "data": {
      "text/plain": [
       "Timedelta('2 days 10:43:00.608140')"
      ]
     },
     "execution_count": 88,
     "metadata": {},
     "output_type": "execute_result"
    }
   ],
   "source": [
    "np.mean(Manhattan_Noise['Wait Time'])"
   ]
  },
  {
   "cell_type": "code",
   "execution_count": 89,
   "metadata": {},
   "outputs": [
    {
     "data": {
      "text/plain": [
       "Timedelta('18 days 17:10:47.647421')"
      ]
     },
     "execution_count": 89,
     "metadata": {},
     "output_type": "execute_result"
    }
   ],
   "source": [
    "np.std(Manhattan_Noise['Wait Time'])"
   ]
  },
  {
   "cell_type": "markdown",
   "metadata": {},
   "source": [
    "<span style=\"color: #0000ff;\"><strong>Top 5 Complaints In Queens</strong></span>\n",
    "\n",
    "The average wait time for complaints in Queens is approximately <span style=\"color: #0000ff;\"><strong>2 days 23 hours</strong></span> and the standard deviation is approximately <span style=\"color: #0000ff;\"><strong>20 days and 8 hours</strong></span>\n",
    "\n",
    "<hr />"
   ]
  },
  {
   "cell_type": "code",
   "execution_count": 91,
   "metadata": {
    "collapsed": true
   },
   "outputs": [],
   "source": [
    "Queens_Noise = queen[(queen['Complaint Type'] == 'Noise - Residential') | (queen['Complaint Type'] == 'Blocked Driveway') | (queen['Complaint Type'] == 'Street Condition') | (queen['Complaint Type'] == 'Illegal Parking')  |  (queen['Complaint Type'] == 'Street Light Condition')]                              "
   ]
  },
  {
   "cell_type": "code",
   "execution_count": 92,
   "metadata": {},
   "outputs": [
    {
     "data": {
      "text/plain": [
       "Timedelta('2 days 23:28:34.509864')"
      ]
     },
     "execution_count": 92,
     "metadata": {},
     "output_type": "execute_result"
    }
   ],
   "source": [
    "np.mean(Queens_Noise['Wait Time'])"
   ]
  },
  {
   "cell_type": "code",
   "execution_count": 93,
   "metadata": {},
   "outputs": [
    {
     "data": {
      "text/plain": [
       "Timedelta('20 days 08:29:42.034718')"
      ]
     },
     "execution_count": 93,
     "metadata": {},
     "output_type": "execute_result"
    }
   ],
   "source": [
    "np.std(Queens_Noise['Wait Time'])"
   ]
  },
  {
   "cell_type": "markdown",
   "metadata": {},
   "source": [
    "<span style=\"color: #0000ff;\"><strong>Top 5 Complaints In The Bronx</strong></span>\n",
    "\n",
    "The average wait time for complaints in the Bronx is approximately <span style=\"color: #0000ff;\"><strong>5 days 15 hours</strong></span> and the standard deviation is approximately <span style=\"color: #0000ff;\"><strong>14 days and 2 hours</strong></span>\n",
    "\n",
    "<hr />"
   ]
  },
  {
   "cell_type": "code",
   "execution_count": 94,
   "metadata": {
    "collapsed": true
   },
   "outputs": [],
   "source": [
    "Bronx_Noise = bronx[(bronx['Complaint Type'] == 'Noise - Residential') | (bronx['Complaint Type'] == 'HEAT/HOT WATER') | (bronx['Complaint Type'] == 'UNSANITARY CONDITION') | (bronx['Complaint Type'] == 'PAINT/PLASTER')  |  (bronx['Complaint Type'] == 'Street Light Condition')]                              "
   ]
  },
  {
   "cell_type": "code",
   "execution_count": 95,
   "metadata": {},
   "outputs": [
    {
     "data": {
      "text/plain": [
       "Timedelta('5 days 15:31:32.156968')"
      ]
     },
     "execution_count": 95,
     "metadata": {},
     "output_type": "execute_result"
    }
   ],
   "source": [
    "np.mean(Bronx_Noise['Wait Time'])"
   ]
  },
  {
   "cell_type": "code",
   "execution_count": 96,
   "metadata": {},
   "outputs": [
    {
     "data": {
      "text/plain": [
       "Timedelta('14 days 02:32:50.642639')"
      ]
     },
     "execution_count": 96,
     "metadata": {},
     "output_type": "execute_result"
    }
   ],
   "source": [
    "np.std(Bronx_Noise['Wait Time'])"
   ]
  },
  {
   "cell_type": "markdown",
   "metadata": {},
   "source": [
    "<span style=\"color: #0000ff;\"><strong>Top 5 Complaints In Staten Island</strong></span>\n",
    "\n",
    "The average wait time for complaints in Staten Island is approximately <span style=\"color: #0000ff;\"><strong>3 days 5 hours</strong></span> and the standard deviation is approximately <span style=\"color: #0000ff;\"><strong>23 days and 16 hours</strong></span>\n",
    "\n",
    "<hr />"
   ]
  },
  {
   "cell_type": "code",
   "execution_count": 98,
   "metadata": {
    "collapsed": true
   },
   "outputs": [],
   "source": [
    "Staten_Noise = staten[(staten['Complaint Type'] == 'Noise - Residential') | (staten['Complaint Type'] == 'Street Condition') | (staten['Complaint Type'] == 'Electronics Waste') | (staten['Complaint Type'] == 'Illegal Parking')  |  (staten['Complaint Type'] == 'Street Light Condition')]                              "
   ]
  },
  {
   "cell_type": "code",
   "execution_count": 99,
   "metadata": {},
   "outputs": [
    {
     "data": {
      "text/plain": [
       "Timedelta('3 days 05:33:28.407286')"
      ]
     },
     "execution_count": 99,
     "metadata": {},
     "output_type": "execute_result"
    }
   ],
   "source": [
    "np.mean(Staten_Noise['Wait Time'])"
   ]
  },
  {
   "cell_type": "code",
   "execution_count": 100,
   "metadata": {},
   "outputs": [
    {
     "data": {
      "text/plain": [
       "Timedelta('23 days 16:39:49.405093')"
      ]
     },
     "execution_count": 100,
     "metadata": {},
     "output_type": "execute_result"
    }
   ],
   "source": [
    "np.std(Staten_Noise['Wait Time'])"
   ]
  },
  {
   "cell_type": "markdown",
   "metadata": {},
   "source": [
    "<span style=\"color: #0000ff;\"><strong>Top 5 Complaints In Brooklyn</strong></span>\n",
    "\n",
    "The average wait time for complaints in Brooklyn is approximately <span style=\"color: #0000ff;\"><strong>4 days 14 hours</strong></span> and the standard deviation is approximately <span style=\"color: #0000ff;\"><strong>29 days and 13 hours</strong></span>\n",
    "\n",
    "<hr />"
   ]
  },
  {
   "cell_type": "code",
   "execution_count": 101,
   "metadata": {
    "collapsed": true
   },
   "outputs": [],
   "source": [
    "Brooklyn_Noise = brooklyn[(brooklyn['Complaint Type'] == 'Noise - Residential') | (brooklyn['Complaint Type'] == 'Street Condition') | (brooklyn['Complaint Type'] == 'UNSANITARY CONDITION') | (brooklyn['Complaint Type'] == 'Illegal Parking')  |  (brooklyn['Complaint Type'] == 'Blocked Driveway')]                              "
   ]
  },
  {
   "cell_type": "code",
   "execution_count": 102,
   "metadata": {},
   "outputs": [
    {
     "data": {
      "text/plain": [
       "Timedelta('4 days 14:09:58.468424')"
      ]
     },
     "execution_count": 102,
     "metadata": {},
     "output_type": "execute_result"
    }
   ],
   "source": [
    "np.mean(Brooklyn_Noise['Wait Time'])"
   ]
  },
  {
   "cell_type": "code",
   "execution_count": 133,
   "metadata": {},
   "outputs": [
    {
     "data": {
      "text/plain": [
       "Timedelta('29 days 13:54:00.353272')"
      ]
     },
     "execution_count": 133,
     "metadata": {},
     "output_type": "execute_result"
    }
   ],
   "source": [
    "np.std(Brooklyn_Noise['Wait Time'])"
   ]
  },
  {
   "cell_type": "code",
   "execution_count": null,
   "metadata": {
    "collapsed": true
   },
   "outputs": [],
   "source": []
  }
 ],
 "metadata": {
  "kernelspec": {
   "display_name": "Python 3",
   "language": "python",
   "name": "python3"
  },
  "language_info": {
   "codemirror_mode": {
    "name": "ipython",
    "version": 3
   },
   "file_extension": ".py",
   "mimetype": "text/x-python",
   "name": "python",
   "nbconvert_exporter": "python",
   "pygments_lexer": "ipython3",
   "version": "3.6.0"
  }
 },
 "nbformat": 4,
 "nbformat_minor": 1
}
